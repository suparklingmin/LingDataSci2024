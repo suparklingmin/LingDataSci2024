{
 "cells": [
  {
   "cell_type": "markdown",
   "metadata": {},
   "source": [
    "# 2024-2 언어데이터과학 19강 (2024-11-28) 실습 (1) `gensim` 패키지와 Word2Vec 모델 훈련\n",
    "\n",
    "## 오늘의 목표\n",
    "\n",
    "1. 모두의 말뭉치 '온라인 대화 말뭉치'의 발화 자료로 Word2Vec Skip-gram 모델을 훈련시킬 수 있다.\n",
    "2. 단어 사이의 의미 유사성을 벡터들의 코사인 유사도로 계량화하여 설명할 수 있다.\n",
    "3. t-SNE 기법을 사용하여 단어 벡터들을 2차원 평면에 시각화할 수 있다.\n",
    "4. Word2Vec 모델을 사용하여 연령대에 따른 단어의 분포 차이를 설명할 수 있다."
   ]
  },
  {
   "cell_type": "markdown",
   "metadata": {},
   "source": [
    "## 0. 준비"
   ]
  },
  {
   "cell_type": "markdown",
   "metadata": {},
   "source": [
    "### 파이썬 모듈 설치하기\n",
    "\n",
    "Python에서 Word2Vec 모델을 사용하기 위해서는 `gensim` 모듈이 필요하다."
   ]
  },
  {
   "cell_type": "code",
   "execution_count": 1,
   "metadata": {},
   "outputs": [
    {
     "name": "stdout",
     "output_type": "stream",
     "text": [
      "Collecting gensim\n",
      "  Downloading gensim-4.3.3-cp312-cp312-manylinux_2_17_x86_64.manylinux2014_x86_64.whl.metadata (8.1 kB)\n",
      "Collecting numpy<2.0,>=1.18.5 (from gensim)\n",
      "  Downloading numpy-1.26.4-cp312-cp312-manylinux_2_17_x86_64.manylinux2014_x86_64.whl.metadata (61 kB)\n",
      "Collecting scipy<1.14.0,>=1.7.0 (from gensim)\n",
      "  Downloading scipy-1.13.1-cp312-cp312-manylinux_2_17_x86_64.manylinux2014_x86_64.whl.metadata (60 kB)\n",
      "Collecting smart-open>=1.8.1 (from gensim)\n",
      "  Downloading smart_open-7.0.5-py3-none-any.whl.metadata (24 kB)\n",
      "Collecting wrapt (from smart-open>=1.8.1->gensim)\n",
      "  Downloading wrapt-1.17.0-cp312-cp312-manylinux_2_5_x86_64.manylinux1_x86_64.manylinux_2_17_x86_64.manylinux2014_x86_64.whl.metadata (6.4 kB)\n",
      "Downloading gensim-4.3.3-cp312-cp312-manylinux_2_17_x86_64.manylinux2014_x86_64.whl (26.6 MB)\n",
      "\u001b[2K   \u001b[90m━━━━━━━━━━━━━━━━━━━━━━━━━━━━━━━━━━━━━━━━\u001b[0m \u001b[32m26.6/26.6 MB\u001b[0m \u001b[31m13.5 MB/s\u001b[0m eta \u001b[36m0:00:00\u001b[0m:00:01\u001b[0m00:01\u001b[0m\n",
      "\u001b[?25hDownloading numpy-1.26.4-cp312-cp312-manylinux_2_17_x86_64.manylinux2014_x86_64.whl (18.0 MB)\n",
      "\u001b[2K   \u001b[90m━━━━━━━━━━━━━━━━━━━━━━━━━━━━━━━━━━━━━━━━\u001b[0m \u001b[32m18.0/18.0 MB\u001b[0m \u001b[31m20.3 MB/s\u001b[0m eta \u001b[36m0:00:00\u001b[0m00:01\u001b[0m00:01\u001b[0m\n",
      "\u001b[?25hDownloading scipy-1.13.1-cp312-cp312-manylinux_2_17_x86_64.manylinux2014_x86_64.whl (38.2 MB)\n",
      "\u001b[2K   \u001b[90m━━━━━━━━━━━━━━━━━━━━━━━━━━━━━━━━━━━━━━━━\u001b[0m \u001b[32m38.2/38.2 MB\u001b[0m \u001b[31m7.4 MB/s\u001b[0m eta \u001b[36m0:00:00\u001b[0m0:00:01\u001b[0m00:01\u001b[0m\n",
      "\u001b[?25hDownloading smart_open-7.0.5-py3-none-any.whl (61 kB)\n",
      "Downloading wrapt-1.17.0-cp312-cp312-manylinux_2_5_x86_64.manylinux1_x86_64.manylinux_2_17_x86_64.manylinux2014_x86_64.whl (89 kB)\n",
      "Installing collected packages: wrapt, numpy, smart-open, scipy, gensim\n",
      "  Attempting uninstall: numpy\n",
      "    Found existing installation: numpy 2.1.1\n",
      "    Uninstalling numpy-2.1.1:\n",
      "      Successfully uninstalled numpy-2.1.1\n",
      "\u001b[33m  WARNING: The script f2py is installed in '/usr/local/python/3.12.1/bin' which is not on PATH.\n",
      "  Consider adding this directory to PATH or, if you prefer to suppress this warning, use --no-warn-script-location.\u001b[0m\u001b[33m\n",
      "\u001b[0m  Attempting uninstall: scipy\n",
      "    Found existing installation: scipy 1.14.1\n",
      "    Uninstalling scipy-1.14.1:\n",
      "      Successfully uninstalled scipy-1.14.1\n",
      "Successfully installed gensim-4.3.3 numpy-1.26.4 scipy-1.13.1 smart-open-7.0.5 wrapt-1.17.0\n",
      "Note: you may need to restart the kernel to use updated packages.\n"
     ]
    }
   ],
   "source": [
    "%pip install gensim"
   ]
  },
  {
   "cell_type": "markdown",
   "metadata": {},
   "source": [
    "## 1. 데이터 가공\n",
    "\n",
    "12강에서 만든 모두의 말뭉치 [온라인 대화 말뭉치] 파일을 읽고 `gensim` 모듈에서 사용 가능한 코퍼스로 가공하자."
   ]
  },
  {
   "cell_type": "code",
   "execution_count": 1,
   "metadata": {},
   "outputs": [],
   "source": [
    "import pandas as pd # data frame\n",
    "from gensim.models import Word2Vec # word embedding\n",
    "from tqdm import tqdm # progress bar"
   ]
  },
  {
   "cell_type": "markdown",
   "metadata": {},
   "source": [
    "### 데이터 파일 읽기"
   ]
  },
  {
   "cell_type": "code",
   "execution_count": 2,
   "metadata": {},
   "outputs": [],
   "source": [
    "DATA_PATH = '../data/nikl/NIKL_OM_form_age_sex.csv.tar.gz'"
   ]
  },
  {
   "cell_type": "code",
   "execution_count": 3,
   "metadata": {},
   "outputs": [
    {
     "data": {
      "text/html": [
       "<div>\n",
       "<style scoped>\n",
       "    .dataframe tbody tr th:only-of-type {\n",
       "        vertical-align: middle;\n",
       "    }\n",
       "\n",
       "    .dataframe tbody tr th {\n",
       "        vertical-align: top;\n",
       "    }\n",
       "\n",
       "    .dataframe thead th {\n",
       "        text-align: right;\n",
       "    }\n",
       "</style>\n",
       "<table border=\"1\" class=\"dataframe\">\n",
       "  <thead>\n",
       "    <tr style=\"text-align: right;\">\n",
       "      <th></th>\n",
       "      <th>data/nikl/NIKL_OM_form_age_sex.csv</th>\n",
       "      <th>age</th>\n",
       "      <th>sex</th>\n",
       "    </tr>\n",
       "  </thead>\n",
       "  <tbody>\n",
       "    <tr>\n",
       "      <th>0</th>\n",
       "      <td>안녕하세요</td>\n",
       "      <td>20대</td>\n",
       "      <td>여성</td>\n",
       "    </tr>\n",
       "    <tr>\n",
       "      <th>1</th>\n",
       "      <td>️</td>\n",
       "      <td>20대</td>\n",
       "      <td>여성</td>\n",
       "    </tr>\n",
       "    <tr>\n",
       "      <th>2</th>\n",
       "      <td>이거 해봐요&gt;&lt;</td>\n",
       "      <td>20대</td>\n",
       "      <td>여성</td>\n",
       "    </tr>\n",
       "    <tr>\n",
       "      <th>3</th>\n",
       "      <td>나의 직장인 멘탈 성향은  [안챙겨도 잘커요, 탕비실 선인장] 당신의 멘탈 성향은 ...</td>\n",
       "      <td>20대</td>\n",
       "      <td>여성</td>\n",
       "    </tr>\n",
       "    <tr>\n",
       "      <th>4</th>\n",
       "      <td>아앗...</td>\n",
       "      <td>20대</td>\n",
       "      <td>여성</td>\n",
       "    </tr>\n",
       "    <tr>\n",
       "      <th>...</th>\n",
       "      <td>...</td>\n",
       "      <td>...</td>\n",
       "      <td>...</td>\n",
       "    </tr>\n",
       "    <tr>\n",
       "      <th>2977836</th>\n",
       "      <td>아잌ㅋㅋㅋㅋㅋㅋㅋㅋㅋㅋ</td>\n",
       "      <td>20대</td>\n",
       "      <td>여성</td>\n",
       "    </tr>\n",
       "    <tr>\n",
       "      <th>2977837</th>\n",
       "      <td>가즈아</td>\n",
       "      <td>20대</td>\n",
       "      <td>여성</td>\n",
       "    </tr>\n",
       "    <tr>\n",
       "      <th>2977838</th>\n",
       "      <td>ㅋㅋㅋㅋㅋㅋㅋㅋㅋㅋㅋㅋㅋ가즈아!</td>\n",
       "      <td>20대</td>\n",
       "      <td>여성</td>\n",
       "    </tr>\n",
       "    <tr>\n",
       "      <th>2977839</th>\n",
       "      <td>달려달려</td>\n",
       "      <td>20대</td>\n",
       "      <td>여성</td>\n",
       "    </tr>\n",
       "    <tr>\n",
       "      <th>2977840</th>\n",
       "      <td>NaN</td>\n",
       "      <td>NaN</td>\n",
       "      <td>NaN</td>\n",
       "    </tr>\n",
       "  </tbody>\n",
       "</table>\n",
       "<p>2977841 rows × 3 columns</p>\n",
       "</div>"
      ],
      "text/plain": [
       "                        data/nikl/NIKL_OM_form_age_sex.csv  age  sex\n",
       "0                                                    안녕하세요  20대   여성\n",
       "1                                                        ️  20대   여성\n",
       "2                                                 이거 해봐요><  20대   여성\n",
       "3        나의 직장인 멘탈 성향은  [안챙겨도 잘커요, 탕비실 선인장] 당신의 멘탈 성향은 ...  20대   여성\n",
       "4                                                    아앗...  20대   여성\n",
       "...                                                    ...  ...  ...\n",
       "2977836                                       아잌ㅋㅋㅋㅋㅋㅋㅋㅋㅋㅋ  20대   여성\n",
       "2977837                                                가즈아  20대   여성\n",
       "2977838                                  ㅋㅋㅋㅋㅋㅋㅋㅋㅋㅋㅋㅋㅋ가즈아!  20대   여성\n",
       "2977839                                               달려달려  20대   여성\n",
       "2977840                                                NaN  NaN  NaN\n",
       "\n",
       "[2977841 rows x 3 columns]"
      ]
     },
     "execution_count": 3,
     "metadata": {},
     "output_type": "execute_result"
    }
   ],
   "source": [
    "utterances = pd.read_csv(DATA_PATH, compression='gzip', on_bad_lines='skip')\n",
    "utterances"
   ]
  },
  {
   "cell_type": "code",
   "execution_count": 4,
   "metadata": {},
   "outputs": [
    {
     "data": {
      "text/html": [
       "<div>\n",
       "<style scoped>\n",
       "    .dataframe tbody tr th:only-of-type {\n",
       "        vertical-align: middle;\n",
       "    }\n",
       "\n",
       "    .dataframe tbody tr th {\n",
       "        vertical-align: top;\n",
       "    }\n",
       "\n",
       "    .dataframe thead th {\n",
       "        text-align: right;\n",
       "    }\n",
       "</style>\n",
       "<table border=\"1\" class=\"dataframe\">\n",
       "  <thead>\n",
       "    <tr style=\"text-align: right;\">\n",
       "      <th></th>\n",
       "      <th>form</th>\n",
       "      <th>age</th>\n",
       "      <th>sex</th>\n",
       "    </tr>\n",
       "  </thead>\n",
       "  <tbody>\n",
       "    <tr>\n",
       "      <th>0</th>\n",
       "      <td>안녕하세요</td>\n",
       "      <td>20대</td>\n",
       "      <td>여성</td>\n",
       "    </tr>\n",
       "    <tr>\n",
       "      <th>1</th>\n",
       "      <td>️</td>\n",
       "      <td>20대</td>\n",
       "      <td>여성</td>\n",
       "    </tr>\n",
       "    <tr>\n",
       "      <th>2</th>\n",
       "      <td>이거 해봐요&gt;&lt;</td>\n",
       "      <td>20대</td>\n",
       "      <td>여성</td>\n",
       "    </tr>\n",
       "    <tr>\n",
       "      <th>3</th>\n",
       "      <td>나의 직장인 멘탈 성향은  [안챙겨도 잘커요, 탕비실 선인장] 당신의 멘탈 성향은 ...</td>\n",
       "      <td>20대</td>\n",
       "      <td>여성</td>\n",
       "    </tr>\n",
       "    <tr>\n",
       "      <th>4</th>\n",
       "      <td>아앗...</td>\n",
       "      <td>20대</td>\n",
       "      <td>여성</td>\n",
       "    </tr>\n",
       "    <tr>\n",
       "      <th>...</th>\n",
       "      <td>...</td>\n",
       "      <td>...</td>\n",
       "      <td>...</td>\n",
       "    </tr>\n",
       "    <tr>\n",
       "      <th>2977835</th>\n",
       "      <td>ㅋㅋㅋㅋㅋㅋㅋㅋㅋㅋㅋ</td>\n",
       "      <td>20대</td>\n",
       "      <td>여성</td>\n",
       "    </tr>\n",
       "    <tr>\n",
       "      <th>2977836</th>\n",
       "      <td>아잌ㅋㅋㅋㅋㅋㅋㅋㅋㅋㅋ</td>\n",
       "      <td>20대</td>\n",
       "      <td>여성</td>\n",
       "    </tr>\n",
       "    <tr>\n",
       "      <th>2977837</th>\n",
       "      <td>가즈아</td>\n",
       "      <td>20대</td>\n",
       "      <td>여성</td>\n",
       "    </tr>\n",
       "    <tr>\n",
       "      <th>2977838</th>\n",
       "      <td>ㅋㅋㅋㅋㅋㅋㅋㅋㅋㅋㅋㅋㅋ가즈아!</td>\n",
       "      <td>20대</td>\n",
       "      <td>여성</td>\n",
       "    </tr>\n",
       "    <tr>\n",
       "      <th>2977839</th>\n",
       "      <td>달려달려</td>\n",
       "      <td>20대</td>\n",
       "      <td>여성</td>\n",
       "    </tr>\n",
       "  </tbody>\n",
       "</table>\n",
       "<p>2977840 rows × 3 columns</p>\n",
       "</div>"
      ],
      "text/plain": [
       "                                                      form  age sex\n",
       "0                                                    안녕하세요  20대  여성\n",
       "1                                                        ️  20대  여성\n",
       "2                                                 이거 해봐요><  20대  여성\n",
       "3        나의 직장인 멘탈 성향은  [안챙겨도 잘커요, 탕비실 선인장] 당신의 멘탈 성향은 ...  20대  여성\n",
       "4                                                    아앗...  20대  여성\n",
       "...                                                    ...  ...  ..\n",
       "2977835                                        ㅋㅋㅋㅋㅋㅋㅋㅋㅋㅋㅋ  20대  여성\n",
       "2977836                                       아잌ㅋㅋㅋㅋㅋㅋㅋㅋㅋㅋ  20대  여성\n",
       "2977837                                                가즈아  20대  여성\n",
       "2977838                                  ㅋㅋㅋㅋㅋㅋㅋㅋㅋㅋㅋㅋㅋ가즈아!  20대  여성\n",
       "2977839                                               달려달려  20대  여성\n",
       "\n",
       "[2977840 rows x 3 columns]"
      ]
     },
     "execution_count": 4,
     "metadata": {},
     "output_type": "execute_result"
    }
   ],
   "source": [
    "utterances = pd.read_csv(DATA_PATH, compression='gzip', on_bad_lines='skip')\n",
    "utterances.dropna(inplace=True)\n",
    "utterances.rename(columns={utterances.columns[0]: 'form'}, inplace=True)\n",
    "utterances"
   ]
  },
  {
   "cell_type": "markdown",
   "metadata": {},
   "source": [
    "### 데이터 형변환\n",
    "\n",
    "일반적으로 Python의 여러 라이브러리에서 코퍼스를 다룰 때는 한 문장을 단어들의 리스트로 표현하고, 코퍼스 전체를 문장들의 리스트로 표현한다.\n",
    "\n",
    "지금 가지고 있는 데이터프레임에서는 문장에 해당하는 발화가 `str` 자료형이므로, `str.split()` 메소드를 사용하여 단어들의 리스트로 만들어 주자."
   ]
  },
  {
   "cell_type": "code",
   "execution_count": 5,
   "metadata": {},
   "outputs": [
    {
     "name": "stdout",
     "output_type": "stream",
     "text": [
      "0                                              [안녕하세요]\n",
      "1                                                  [️]\n",
      "2                                          [이거, 해봐요><]\n",
      "3    [나의, 직장인, 멘탈, 성향은, [안챙겨도, 잘커요,, 탕비실, 선인장], 당신의...\n",
      "4                                              [아앗...]\n",
      "Name: form, dtype: object\n"
     ]
    }
   ],
   "source": [
    "corpus = utterances['form'].apply(str.split) # edit this line\n",
    "print(corpus[:5])"
   ]
  },
  {
   "cell_type": "markdown",
   "metadata": {},
   "source": [
    "## 2. Word2Vec 모델 훈련"
   ]
  },
  {
   "cell_type": "markdown",
   "metadata": {},
   "source": [
    "### 모델 초기화"
   ]
  },
  {
   "cell_type": "code",
   "execution_count": 6,
   "metadata": {},
   "outputs": [],
   "source": [
    "model = Word2Vec(\n",
    "    sg=1,\n",
    "    min_count=5,\n",
    "    vector_size=100,\n",
    "    window=2,\n",
    "    negative=5,\n",
    ")"
   ]
  },
  {
   "cell_type": "markdown",
   "metadata": {},
   "source": [
    "### Vocabulary 구축"
   ]
  },
  {
   "cell_type": "code",
   "execution_count": 7,
   "metadata": {},
   "outputs": [
    {
     "name": "stderr",
     "output_type": "stream",
     "text": [
      "100%|██████████| 2977840/2977840 [00:04<00:00, 665081.27it/s]\n"
     ]
    }
   ],
   "source": [
    "model.build_vocab(corpus_iterable=tqdm(corpus))"
   ]
  },
  {
   "cell_type": "markdown",
   "metadata": {},
   "source": [
    "### 모델 훈련시키기"
   ]
  },
  {
   "cell_type": "code",
   "execution_count": 8,
   "metadata": {},
   "outputs": [
    {
     "data": {
      "text/plain": [
       "(32845001, 46433495)"
      ]
     },
     "execution_count": 8,
     "metadata": {},
     "output_type": "execute_result"
    }
   ],
   "source": [
    "model.train(\n",
    "    corpus_iterable=corpus,\n",
    "    total_examples=model.corpus_count,\n",
    "    epochs=5\n",
    ")\n",
    "# (trained_word_count, raw_word_count)"
   ]
  },
  {
   "cell_type": "markdown",
   "metadata": {},
   "source": [
    "### 훈련 결과\n",
    "\n",
    "Vocabulary 확인"
   ]
  },
  {
   "cell_type": "code",
   "execution_count": 9,
   "metadata": {},
   "outputs": [
    {
     "name": "stdout",
     "output_type": "stream",
     "text": [
      "['아', 'ㅋㅋ', 'ㅋㅋㅋ', '저는', '진짜', '근데', '너무', 'ㅎㅎ', '다', '저도', '좀', 'ㅋㅋㅋㅋ', '잘', '그', '나', '네', '더', '많이', '전', '그냥', '오', '난', 'ㅠㅠ', '맞아요', 'ㅋㅋㅋㅋㅋ', '안', '오늘', '저', '그래서', '그럼']\n"
     ]
    }
   ],
   "source": [
    "# 빈도순 상위 30개 단어\n",
    "print(model.wv.index_to_key[:30])"
   ]
  },
  {
   "cell_type": "markdown",
   "metadata": {},
   "source": [
    "단어 벡터 확인"
   ]
  },
  {
   "cell_type": "code",
   "execution_count": 10,
   "metadata": {},
   "outputs": [
    {
     "name": "stdout",
     "output_type": "stream",
     "text": [
      "[-1.96811646e-01 -4.67672229e-01 -1.10853052e+00  4.63435471e-01\n",
      " -5.67317545e-01 -6.04940485e-03 -7.45956749e-02  3.10505629e-01\n",
      " -4.31377999e-02  3.81155968e-01 -3.01036030e-01  2.14202419e-01\n",
      " -5.41801274e-01  1.21644221e-01 -6.11828983e-01 -2.83032507e-01\n",
      "  4.67197955e-01  2.89971739e-01  5.34604132e-01 -2.05180943e-01\n",
      "  1.70622602e-01 -1.80923313e-01  4.77950066e-01 -5.78660965e-01\n",
      "  1.00205755e+00 -2.76321352e-01  3.92449677e-01  4.92483340e-02\n",
      " -5.47579788e-02  6.62056684e-01  4.57391255e-02 -1.40982270e-01\n",
      "  3.52476746e-01 -4.21473205e-01 -2.55408496e-01  1.45491183e-01\n",
      "  2.56319135e-01 -2.54204739e-02  1.60508513e-01 -7.58712232e-01\n",
      "  1.95780039e-01 -3.67543161e-01  2.12812692e-01 -5.20948291e-01\n",
      "  2.05238612e-04 -2.80146331e-01 -4.48927656e-02 -1.20049846e+00\n",
      "  6.86576784e-01  6.39382482e-01 -8.51660967e-02 -4.70205426e-01\n",
      " -3.36996108e-01  3.82322706e-02 -1.25026479e-01  4.50485170e-01\n",
      "  1.93788469e-01  9.75721180e-01 -1.72251418e-01  1.30938619e-01\n",
      " -2.12128623e-03 -2.43914932e-01 -1.24912605e-01 -4.82791215e-01\n",
      "  2.75554746e-01 -3.41761321e-01  1.82567477e-01  5.29885650e-01\n",
      " -7.38483548e-01  1.73291594e-01  2.75724411e-01 -3.77802163e-01\n",
      "  1.67710856e-01  3.55915636e-01 -5.29159129e-01 -1.28687128e-01\n",
      " -2.51907241e-02  8.11082423e-02 -3.63601863e-01 -2.14255363e-01\n",
      "  7.47280940e-02  2.72179216e-01  1.85719460e-01 -2.89135069e-01\n",
      " -2.36233115e-01 -9.09044206e-01  6.25981033e-01  5.68463318e-02\n",
      "  6.21341407e-01  3.09406333e-02  8.74243602e-02  2.29825690e-01\n",
      " -1.30973965e-01 -6.05189681e-01 -3.96799296e-01  8.45379114e-01\n",
      "  7.58117735e-02 -6.65778995e-01 -4.75316226e-01 -1.60337359e-01]\n"
     ]
    }
   ],
   "source": [
    "print(model.wv['ㅋㅋ'])"
   ]
  },
  {
   "cell_type": "markdown",
   "metadata": {},
   "source": [
    "## 3. Word2Vec 모델 활용"
   ]
  },
  {
   "cell_type": "markdown",
   "metadata": {},
   "source": [
    "### `gensim`의 주요 기능"
   ]
  },
  {
   "cell_type": "markdown",
   "metadata": {},
   "source": [
    "\n",
    "\n",
    "코사인 유사도 계산"
   ]
  },
  {
   "cell_type": "code",
   "execution_count": 11,
   "metadata": {},
   "outputs": [
    {
     "name": "stdout",
     "output_type": "stream",
     "text": [
      "0.91619056\n",
      "0.60392934\n"
     ]
    }
   ],
   "source": [
    "print(model.wv.similarity(w1='펜', w2='볼펜'))\n",
    "print(model.wv.similarity(w1='펜', w2='맥주'))"
   ]
  },
  {
   "cell_type": "markdown",
   "metadata": {},
   "source": [
    "평행사변형 모형"
   ]
  },
  {
   "cell_type": "code",
   "execution_count": 12,
   "metadata": {},
   "outputs": [
    {
     "name": "stdout",
     "output_type": "stream",
     "text": [
      "[('할아버지', 0.8138434290885925), ('name11', 0.8039007186889648), ('너희', 0.8033213019371033), ('name10', 0.8007969856262207), ('니네', 0.7998496890068054), ('name7이', 0.7930594086647034), ('이모가', 0.7900922894477844), ('name12', 0.789970874786377), ('아빠랑', 0.7899647951126099), ('동생', 0.7849502563476562)]\n"
     ]
    }
   ],
   "source": [
    "# 아빠 : 엄마 = X : 할머니\n",
    "# 아빠 - 엄마 = X - 할머니\n",
    "# X = 할머니 + 아빠 - 엄마\n",
    "print(model.wv.most_similar(positive=['할머니', '아빠'], negative=['엄마'])) # EDIT THIS LINE"
   ]
  },
  {
   "cell_type": "markdown",
   "metadata": {},
   "source": [
    "우리 중에 스파이가 있는 것 같아"
   ]
  },
  {
   "cell_type": "code",
   "execution_count": 13,
   "metadata": {},
   "outputs": [
    {
     "name": "stdout",
     "output_type": "stream",
     "text": [
      "ㅠㅠ\n"
     ]
    }
   ],
   "source": [
    "print(model.wv.doesnt_match(['ㅋㅋ', 'ㅎㅎ', '^^', 'ㅠㅠ']))"
   ]
  },
  {
   "cell_type": "markdown",
   "metadata": {},
   "source": [
    "### '완전'과 '아주'의 이웃 비교"
   ]
  },
  {
   "cell_type": "code",
   "execution_count": 14,
   "metadata": {},
   "outputs": [
    {
     "data": {
      "text/plain": [
       "[('짱', 0.7012233138084412),\n",
       " ('되게', 0.643863320350647),\n",
       " ('디게', 0.6269715428352356),\n",
       " ('대박', 0.6215198636054993),\n",
       " ('무지', 0.6200389266014099),\n",
       " ('넘나', 0.6100852489471436),\n",
       " ('장난', 0.6009043455123901),\n",
       " ('왕', 0.5968322157859802),\n",
       " ('너뮤', 0.5880658626556396),\n",
       " ('진쨔', 0.5750538110733032)]"
      ]
     },
     "execution_count": 14,
     "metadata": {},
     "output_type": "execute_result"
    }
   ],
   "source": [
    "model.wv.most_similar(['완전'])"
   ]
  },
  {
   "cell_type": "code",
   "execution_count": 15,
   "metadata": {},
   "outputs": [
    {
     "data": {
      "text/plain": [
       "[('매우', 0.7714052796363831),\n",
       " ('굉장히', 0.6949530243873596),\n",
       " ('상당히', 0.6894147396087646),\n",
       " ('무지', 0.6877973675727844),\n",
       " ('무척', 0.6787397861480713),\n",
       " ('넘나', 0.6555966734886169),\n",
       " ('그저', 0.6456524133682251),\n",
       " ('운이', 0.6256696581840515),\n",
       " ('훨씬', 0.6198590993881226),\n",
       " ('되게', 0.6186764240264893)]"
      ]
     },
     "execution_count": 15,
     "metadata": {},
     "output_type": "execute_result"
    }
   ],
   "source": [
    "model.wv.most_similar(['아주'])"
   ]
  },
  {
   "cell_type": "markdown",
   "metadata": {},
   "source": [
    "### 모델 저장하기"
   ]
  },
  {
   "cell_type": "code",
   "execution_count": null,
   "metadata": {},
   "outputs": [
    {
     "ename": "",
     "evalue": "",
     "output_type": "error",
     "traceback": [
      "\u001b[1;31mThe Kernel crashed while executing code in the current cell or a previous cell. \n",
      "\u001b[1;31mPlease review the code in the cell(s) to identify a possible cause of the failure. \n",
      "\u001b[1;31mClick <a href='https://aka.ms/vscodeJupyterKernelCrash'>here</a> for more info. \n",
      "\u001b[1;31mView Jupyter <a href='command:jupyter.viewOutput'>log</a> for further details."
     ]
    }
   ],
   "source": [
    "%mkdir -p ../models\n",
    "model.save('../models/word2vec-modu-online')"
   ]
  }
 ],
 "metadata": {
  "kernelspec": {
   "display_name": "Python 3",
   "language": "python",
   "name": "python3"
  },
  "language_info": {
   "codemirror_mode": {
    "name": "ipython",
    "version": 3
   },
   "file_extension": ".py",
   "mimetype": "text/x-python",
   "name": "python",
   "nbconvert_exporter": "python",
   "pygments_lexer": "ipython3",
   "version": "3.12.1"
  }
 },
 "nbformat": 4,
 "nbformat_minor": 2
}
