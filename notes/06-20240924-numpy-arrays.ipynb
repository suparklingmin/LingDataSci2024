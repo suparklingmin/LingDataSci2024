{
  "cells": [
    {
      "cell_type": "markdown",
      "metadata": {
        "id": "hgyLvMR_A_1F"
      },
      "source": [
        "# 2024-1 컴퓨터의 개념 및 실습 (005) 15강 (2024-04-29) 배열과 `numpy` 패키지"
      ]
    },
    {
      "cell_type": "markdown",
      "metadata": {
        "id": "MX1Cx6pr-yZ-"
      },
      "source": [
        "## 벡터(vector)\n",
        "\n",
        "여기에서는 벡터를 실수 값(들)을 순서대로 나열한 것이라고 간주하겠다. (벡터의 엄밀한 개념은 《선형대수학》 강의에서 배울 수 있다.)"
      ]
    },
    {
      "cell_type": "markdown",
      "metadata": {
        "id": "rStn2NnwCDrE"
      },
      "source": [
        "### 벡터의 연산: 합과 상수배\n",
        "\n",
        "벡터 $\\vec{x}$와 $\\vec{y}$가 각각 $n$개의 실수 값으로 이루어져 있다고 가정하고 $\\vec{x}=(x_1, x_2, \\dots, x_n)$ 및 $\\vec{y}=(y_1, y_2, \\dots, y_n)$로 표기하자. 이때 $\\vec{x}$와 $\\vec{y}$는 $n$차원 벡터라고 부른다.\n",
        "\n",
        "그리고 $a$를 하나의 실수 값으로 놓자. 그러면 아래와 같은 두 등식이 성립한다.\n",
        "\n",
        "$$\n",
        "\\begin{align}\n",
        "\\vec{x} + \\vec{y}\n",
        "  & = (x_1+y_1, x_2+y_2, \\dots, x_n+y_n) &&\\text{(합)}\\\\\n",
        "a\\cdot\\vec{x}\n",
        "  & = (ax_1, ax_2, \\dots, ax_n) &&\\text{(상수배)}\\\\\n",
        "\\end{align}\n",
        "$$\n",
        "\n",
        "즉 두 벡터를 서로 더하는 **합**의 연산과 하나의 실수를 하나의 벡터에 곱하는 **상수배**의 연산이 가능하다."
      ]
    },
    {
      "cell_type": "markdown",
      "metadata": {
        "id": "RA6nygkfBDmO"
      },
      "source": [
        "### 파이썬에서 벡터를 표현하기: 리스트?\n",
        "\n",
        "그런데 이 $(x_1, x_2, \\dots, x_n)$과 같은 대상을 파이썬에서 어떻게 처리할 수 있을까?\n",
        "\n",
        "우선 값을 순서대로 나열한다는 점에서 리스트로 표현하는 것을 생각해 볼 수 있다.\n",
        "\n",
        "예를 들어 6차원 벡터를 아래와 같이 여섯 개의 원소로 이루어진 리스트로 표기하는 것이다."
      ]
    },
    {
      "cell_type": "code",
      "execution_count": 1,
      "metadata": {
        "colab": {
          "base_uri": "https://localhost:8080/"
        },
        "id": "esDX4sNh_5k6",
        "outputId": "7b2a446a-4152-4c8b-9542-2bb469b5d1a8"
      },
      "outputs": [
        {
          "name": "stdout",
          "output_type": "stream",
          "text": [
            "x = [3, 1, 4, 1, 5, 9]\n",
            "y = [2, 3, 0, 5, 1, 0]\n"
          ]
        }
      ],
      "source": [
        "x = [3, 1, 4, 1, 5, 9]\n",
        "y = [2, 3, 0, 5, 1, 0]\n",
        "\n",
        "print('x =', x)\n",
        "print('y =', y)"
      ]
    },
    {
      "cell_type": "markdown",
      "metadata": {
        "id": "SWlEdzNlDfEl"
      },
      "source": [
        "### 리스트 표현의 문제점\n",
        "\n",
        "하지만 리스트로는 벡터의 합과 상수배 연산을 수행하기 어렵다. 이미 배운 것과 같이 리스트의 연산에서 덧셈 기호는 연결을, 곱셈 기호는 반복을 의미하기 때문이다."
      ]
    },
    {
      "cell_type": "code",
      "execution_count": 2,
      "metadata": {
        "colab": {
          "base_uri": "https://localhost:8080/"
        },
        "id": "SMq7jen4DYWn",
        "outputId": "8cc84382-f8ff-4838-9b6b-acfb73f8bfca"
      },
      "outputs": [
        {
          "name": "stdout",
          "output_type": "stream",
          "text": [
            "x + y = [3, 1, 4, 1, 5, 9, 2, 3, 0, 5, 1, 0]\n",
            "2 * x = [3, 1, 4, 1, 5, 9, 3, 1, 4, 1, 5, 9]\n"
          ]
        }
      ],
      "source": [
        "x = [3, 1, 4, 1, 5, 9]\n",
        "y = [2, 3, 0, 5, 1, 0]\n",
        "\n",
        "print('x + y =', x + y) # 연결\n",
        "print('2 * x =', 2 * x) # 반복\n",
        "# print(x > 2) # TypeErrror\n",
        "# print(x ** 2) # TypeError"
      ]
    },
    {
      "cell_type": "markdown",
      "metadata": {
        "id": "93oXzXuIEkkG"
      },
      "source": [
        "따라서 벡터를 처리하기 위해서는 덧셈 기호(`+`)로 합을, 곱셈 기호(`*`)를 상수배로 연산할 수 있는 자료형이 필요하다."
      ]
    },
    {
      "cell_type": "markdown",
      "metadata": {
        "id": "xUHn2erEFC2z"
      },
      "source": [
        "## `numpy` 패키지: **Num**erical **Py**thon\n",
        "\n",
        "벡터를 표현할 수 있는 자료형은 파이썬에 내장되어 있지 않고, `numpy`라는 파이썬 패키지에 들어 있다. 파이썬에서 패키지(package)는 여러 모듈(module)로 이루어진 폴더를 말한다. 패키지를 모은 것은 라이브러리(library)라고 한다.\n",
        "\n",
        "아래의 코드 셀을 실행하면 `numpy`의 최신 버전이 설치된다."
      ]
    },
    {
      "cell_type": "code",
      "execution_count": 3,
      "metadata": {
        "colab": {
          "base_uri": "https://localhost:8080/"
        },
        "id": "thORBw8OeDtd",
        "outputId": "3eaa2e8e-7dad-4e99-89ea-43ea6447117c"
      },
      "outputs": [
        {
          "name": "stdout",
          "output_type": "stream",
          "text": [
            "Requirement already satisfied: numpy in c:\\users\\t\\anaconda3\\lib\\site-packages (1.26.4)\n",
            "Collecting numpy\n",
            "  Downloading numpy-2.1.1-cp312-cp312-win_amd64.whl.metadata (59 kB)\n",
            "     ---------------------------------------- 0.0/59.7 kB ? eta -:--:--\n",
            "     -------------------------------- ----- 51.2/59.7 kB 890.4 kB/s eta 0:00:01\n",
            "     -------------------------------- ----- 51.2/59.7 kB 890.4 kB/s eta 0:00:01\n",
            "     -------------------------------- ----- 51.2/59.7 kB 890.4 kB/s eta 0:00:01\n",
            "     -------------------------------------- 59.7/59.7 kB 317.3 kB/s eta 0:00:00\n",
            "Downloading numpy-2.1.1-cp312-cp312-win_amd64.whl (12.6 MB)\n",
            "   ---------------------------------------- 0.0/12.6 MB ? eta -:--:--\n",
            "   ---------------------------------------- 0.0/12.6 MB ? eta -:--:--\n",
            "   ---------------------------------------- 0.1/12.6 MB 1.5 MB/s eta 0:00:09\n",
            "   ---------------------------------------- 0.1/12.6 MB 1.5 MB/s eta 0:00:09\n",
            "   ---------------------------------------- 0.1/12.6 MB 798.9 kB/s eta 0:00:16\n",
            "    --------------------------------------- 0.2/12.6 MB 1.0 MB/s eta 0:00:12\n",
            "    --------------------------------------- 0.3/12.6 MB 1.1 MB/s eta 0:00:12\n",
            "   - -------------------------------------- 0.4/12.6 MB 1.2 MB/s eta 0:00:11\n",
            "   - -------------------------------------- 0.4/12.6 MB 1.3 MB/s eta 0:00:10\n",
            "   - -------------------------------------- 0.5/12.6 MB 1.3 MB/s eta 0:00:10\n",
            "   - -------------------------------------- 0.6/12.6 MB 1.3 MB/s eta 0:00:10\n",
            "   - -------------------------------------- 0.6/12.6 MB 1.3 MB/s eta 0:00:10\n",
            "   - -------------------------------------- 0.6/12.6 MB 1.3 MB/s eta 0:00:10\n",
            "   -- ------------------------------------- 0.7/12.6 MB 1.1 MB/s eta 0:00:11\n",
            "   -- ------------------------------------- 0.7/12.6 MB 1.1 MB/s eta 0:00:12\n",
            "   -- ------------------------------------- 0.8/12.6 MB 1.1 MB/s eta 0:00:11\n",
            "   -- ------------------------------------- 0.9/12.6 MB 1.2 MB/s eta 0:00:11\n",
            "   --- ------------------------------------ 1.0/12.6 MB 1.2 MB/s eta 0:00:10\n",
            "   --- ------------------------------------ 1.1/12.6 MB 1.2 MB/s eta 0:00:10\n",
            "   --- ------------------------------------ 1.2/12.6 MB 1.3 MB/s eta 0:00:09\n",
            "   --- ------------------------------------ 1.2/12.6 MB 1.3 MB/s eta 0:00:09\n",
            "   ---- ----------------------------------- 1.4/12.6 MB 1.4 MB/s eta 0:00:09\n",
            "   ---- ----------------------------------- 1.4/12.6 MB 1.4 MB/s eta 0:00:09\n",
            "   ---- ----------------------------------- 1.5/12.6 MB 1.4 MB/s eta 0:00:08\n",
            "   ---- ----------------------------------- 1.5/12.6 MB 1.4 MB/s eta 0:00:08\n",
            "   ---- ----------------------------------- 1.6/12.6 MB 1.4 MB/s eta 0:00:09\n",
            "   ----- ---------------------------------- 1.7/12.6 MB 1.4 MB/s eta 0:00:08\n",
            "   ----- ---------------------------------- 1.8/12.6 MB 1.4 MB/s eta 0:00:08\n",
            "   ----- ---------------------------------- 1.8/12.6 MB 1.4 MB/s eta 0:00:08\n",
            "   ------ --------------------------------- 1.9/12.6 MB 1.4 MB/s eta 0:00:08\n",
            "   ------ --------------------------------- 2.0/12.6 MB 1.5 MB/s eta 0:00:08\n",
            "   ------ --------------------------------- 2.1/12.6 MB 1.5 MB/s eta 0:00:08\n",
            "   ------ --------------------------------- 2.1/12.6 MB 1.5 MB/s eta 0:00:08\n",
            "   ------ --------------------------------- 2.2/12.6 MB 1.5 MB/s eta 0:00:08\n",
            "   ------- -------------------------------- 2.2/12.6 MB 1.5 MB/s eta 0:00:08\n",
            "   ------- -------------------------------- 2.3/12.6 MB 1.4 MB/s eta 0:00:08\n",
            "   ------- -------------------------------- 2.3/12.6 MB 1.4 MB/s eta 0:00:08\n",
            "   ------- -------------------------------- 2.4/12.6 MB 1.4 MB/s eta 0:00:08\n",
            "   ------- -------------------------------- 2.4/12.6 MB 1.4 MB/s eta 0:00:08\n",
            "   ------- -------------------------------- 2.4/12.6 MB 1.4 MB/s eta 0:00:08\n",
            "   ------- -------------------------------- 2.4/12.6 MB 1.3 MB/s eta 0:00:08\n",
            "   -------- ------------------------------- 2.5/12.6 MB 1.4 MB/s eta 0:00:08\n",
            "   -------- ------------------------------- 2.6/12.6 MB 1.3 MB/s eta 0:00:08\n",
            "   -------- ------------------------------- 2.7/12.6 MB 1.4 MB/s eta 0:00:08\n",
            "   --------- ------------------------------ 2.8/12.6 MB 1.4 MB/s eta 0:00:07\n",
            "   --------- ------------------------------ 2.9/12.6 MB 1.4 MB/s eta 0:00:07\n",
            "   --------- ------------------------------ 3.0/12.6 MB 1.4 MB/s eta 0:00:07\n",
            "   ---------- ----------------------------- 3.1/12.6 MB 1.5 MB/s eta 0:00:07\n",
            "   ---------- ----------------------------- 3.2/12.6 MB 1.5 MB/s eta 0:00:07\n",
            "   ---------- ----------------------------- 3.4/12.6 MB 1.5 MB/s eta 0:00:07\n",
            "   ----------- ---------------------------- 3.5/12.6 MB 1.5 MB/s eta 0:00:07\n",
            "   ----------- ---------------------------- 3.5/12.6 MB 1.5 MB/s eta 0:00:06\n",
            "   ----------- ---------------------------- 3.7/12.6 MB 1.6 MB/s eta 0:00:06\n",
            "   ------------ --------------------------- 3.9/12.6 MB 1.6 MB/s eta 0:00:06\n",
            "   ------------ --------------------------- 4.0/12.6 MB 1.6 MB/s eta 0:00:06\n",
            "   ------------ --------------------------- 4.1/12.6 MB 1.6 MB/s eta 0:00:06\n",
            "   ------------- -------------------------- 4.1/12.6 MB 1.6 MB/s eta 0:00:06\n",
            "   ------------- -------------------------- 4.2/12.6 MB 1.6 MB/s eta 0:00:06\n",
            "   ------------- -------------------------- 4.3/12.6 MB 1.6 MB/s eta 0:00:06\n",
            "   -------------- ------------------------- 4.4/12.6 MB 1.6 MB/s eta 0:00:06\n",
            "   -------------- ------------------------- 4.5/12.6 MB 1.6 MB/s eta 0:00:05\n",
            "   -------------- ------------------------- 4.6/12.6 MB 1.6 MB/s eta 0:00:05\n",
            "   -------------- ------------------------- 4.7/12.6 MB 1.6 MB/s eta 0:00:05\n",
            "   --------------- ------------------------ 4.8/12.6 MB 1.7 MB/s eta 0:00:05\n",
            "   --------------- ------------------------ 4.9/12.6 MB 1.7 MB/s eta 0:00:05\n",
            "   --------------- ------------------------ 4.9/12.6 MB 1.7 MB/s eta 0:00:05\n",
            "   ---------------- ----------------------- 5.0/12.6 MB 1.7 MB/s eta 0:00:05\n",
            "   ---------------- ----------------------- 5.2/12.6 MB 1.7 MB/s eta 0:00:05\n",
            "   ---------------- ----------------------- 5.2/12.6 MB 1.7 MB/s eta 0:00:05\n",
            "   ----------------- ---------------------- 5.4/12.6 MB 1.7 MB/s eta 0:00:05\n",
            "   ----------------- ---------------------- 5.5/12.6 MB 1.7 MB/s eta 0:00:05\n",
            "   ----------------- ---------------------- 5.5/12.6 MB 1.7 MB/s eta 0:00:05\n",
            "   ------------------ --------------------- 5.7/12.6 MB 1.7 MB/s eta 0:00:05\n",
            "   ------------------ --------------------- 5.7/12.6 MB 1.7 MB/s eta 0:00:05\n",
            "   ------------------ --------------------- 5.8/12.6 MB 1.7 MB/s eta 0:00:04\n",
            "   ------------------ --------------------- 5.9/12.6 MB 1.7 MB/s eta 0:00:04\n",
            "   ------------------ --------------------- 6.0/12.6 MB 1.7 MB/s eta 0:00:04\n",
            "   ------------------- -------------------- 6.1/12.6 MB 1.7 MB/s eta 0:00:04\n",
            "   ------------------- -------------------- 6.1/12.6 MB 1.7 MB/s eta 0:00:04\n",
            "   ------------------- -------------------- 6.2/12.6 MB 1.7 MB/s eta 0:00:04\n",
            "   -------------------- ------------------- 6.3/12.6 MB 1.7 MB/s eta 0:00:04\n",
            "   -------------------- ------------------- 6.4/12.6 MB 1.7 MB/s eta 0:00:04\n",
            "   -------------------- ------------------- 6.5/12.6 MB 1.7 MB/s eta 0:00:04\n",
            "   -------------------- ------------------- 6.6/12.6 MB 1.7 MB/s eta 0:00:04\n",
            "   --------------------- ------------------ 6.7/12.6 MB 1.7 MB/s eta 0:00:04\n",
            "   --------------------- ------------------ 6.8/12.6 MB 1.7 MB/s eta 0:00:04\n",
            "   --------------------- ------------------ 6.9/12.6 MB 1.7 MB/s eta 0:00:04\n",
            "   ---------------------- ----------------- 7.0/12.6 MB 1.7 MB/s eta 0:00:04\n",
            "   ---------------------- ----------------- 7.1/12.6 MB 1.8 MB/s eta 0:00:04\n",
            "   ---------------------- ----------------- 7.2/12.6 MB 1.8 MB/s eta 0:00:04\n",
            "   ----------------------- ---------------- 7.3/12.6 MB 1.8 MB/s eta 0:00:04\n",
            "   ----------------------- ---------------- 7.4/12.6 MB 1.8 MB/s eta 0:00:03\n",
            "   ----------------------- ---------------- 7.4/12.6 MB 1.8 MB/s eta 0:00:03\n",
            "   ----------------------- ---------------- 7.5/12.6 MB 1.8 MB/s eta 0:00:03\n",
            "   ------------------------ --------------- 7.6/12.6 MB 1.8 MB/s eta 0:00:03\n",
            "   ------------------------ --------------- 7.7/12.6 MB 1.8 MB/s eta 0:00:03\n",
            "   ------------------------ --------------- 7.8/12.6 MB 1.8 MB/s eta 0:00:03\n",
            "   ------------------------- -------------- 7.9/12.6 MB 1.8 MB/s eta 0:00:03\n",
            "   ------------------------- -------------- 8.1/12.6 MB 1.8 MB/s eta 0:00:03\n",
            "   ------------------------- -------------- 8.2/12.6 MB 1.8 MB/s eta 0:00:03\n",
            "   -------------------------- ------------- 8.3/12.6 MB 1.8 MB/s eta 0:00:03\n",
            "   -------------------------- ------------- 8.3/12.6 MB 1.8 MB/s eta 0:00:03\n",
            "   -------------------------- ------------- 8.4/12.6 MB 1.8 MB/s eta 0:00:03\n",
            "   -------------------------- ------------- 8.4/12.6 MB 1.8 MB/s eta 0:00:03\n",
            "   --------------------------- ------------ 8.5/12.6 MB 1.8 MB/s eta 0:00:03\n",
            "   --------------------------- ------------ 8.7/12.6 MB 1.8 MB/s eta 0:00:03\n",
            "   ---------------------------- ----------- 8.8/12.6 MB 1.8 MB/s eta 0:00:03\n",
            "   ---------------------------- ----------- 8.9/12.6 MB 1.8 MB/s eta 0:00:03\n",
            "   ---------------------------- ----------- 9.0/12.6 MB 1.8 MB/s eta 0:00:02\n",
            "   ---------------------------- ----------- 9.1/12.6 MB 1.8 MB/s eta 0:00:02\n",
            "   ----------------------------- ---------- 9.2/12.6 MB 1.8 MB/s eta 0:00:02\n",
            "   ----------------------------- ---------- 9.2/12.6 MB 1.8 MB/s eta 0:00:02\n",
            "   ----------------------------- ---------- 9.3/12.6 MB 1.8 MB/s eta 0:00:02\n",
            "   ----------------------------- ---------- 9.3/12.6 MB 1.8 MB/s eta 0:00:02\n",
            "   ----------------------------- ---------- 9.4/12.6 MB 1.8 MB/s eta 0:00:02\n",
            "   ------------------------------ --------- 9.5/12.6 MB 1.8 MB/s eta 0:00:02\n",
            "   ------------------------------ --------- 9.6/12.6 MB 1.8 MB/s eta 0:00:02\n",
            "   ------------------------------ --------- 9.7/12.6 MB 1.8 MB/s eta 0:00:02\n",
            "   ------------------------------- -------- 9.8/12.6 MB 1.8 MB/s eta 0:00:02\n",
            "   ------------------------------- -------- 9.9/12.6 MB 1.8 MB/s eta 0:00:02\n",
            "   ------------------------------- -------- 10.0/12.6 MB 1.8 MB/s eta 0:00:02\n",
            "   -------------------------------- ------- 10.1/12.6 MB 1.8 MB/s eta 0:00:02\n",
            "   -------------------------------- ------- 10.2/12.6 MB 1.8 MB/s eta 0:00:02\n",
            "   -------------------------------- ------- 10.3/12.6 MB 1.8 MB/s eta 0:00:02\n",
            "   --------------------------------- ------ 10.4/12.6 MB 1.8 MB/s eta 0:00:02\n",
            "   --------------------------------- ------ 10.4/12.6 MB 1.8 MB/s eta 0:00:02\n",
            "   --------------------------------- ------ 10.5/12.6 MB 1.8 MB/s eta 0:00:02\n",
            "   --------------------------------- ------ 10.6/12.6 MB 1.8 MB/s eta 0:00:02\n",
            "   ---------------------------------- ----- 10.7/12.6 MB 1.8 MB/s eta 0:00:02\n",
            "   ---------------------------------- ----- 10.8/12.6 MB 1.8 MB/s eta 0:00:01\n",
            "   ---------------------------------- ----- 10.9/12.6 MB 1.9 MB/s eta 0:00:01\n",
            "   ----------------------------------- ---- 11.0/12.6 MB 1.9 MB/s eta 0:00:01\n",
            "   ----------------------------------- ---- 11.1/12.6 MB 1.9 MB/s eta 0:00:01\n",
            "   ----------------------------------- ---- 11.2/12.6 MB 1.9 MB/s eta 0:00:01\n",
            "   ----------------------------------- ---- 11.2/12.6 MB 1.9 MB/s eta 0:00:01\n",
            "   ------------------------------------ --- 11.3/12.6 MB 1.9 MB/s eta 0:00:01\n",
            "   ------------------------------------ --- 11.4/12.6 MB 1.9 MB/s eta 0:00:01\n",
            "   ------------------------------------ --- 11.6/12.6 MB 1.9 MB/s eta 0:00:01\n",
            "   ------------------------------------- -- 11.6/12.6 MB 1.9 MB/s eta 0:00:01\n",
            "   ------------------------------------- -- 11.7/12.6 MB 1.9 MB/s eta 0:00:01\n",
            "   ------------------------------------- -- 11.8/12.6 MB 1.9 MB/s eta 0:00:01\n",
            "   ------------------------------------- -- 11.9/12.6 MB 1.9 MB/s eta 0:00:01\n",
            "   -------------------------------------- - 12.0/12.6 MB 1.9 MB/s eta 0:00:01\n",
            "   -------------------------------------- - 12.1/12.6 MB 1.9 MB/s eta 0:00:01\n",
            "   -------------------------------------- - 12.1/12.6 MB 1.9 MB/s eta 0:00:01\n",
            "   -------------------------------------- - 12.2/12.6 MB 1.9 MB/s eta 0:00:01\n",
            "   ---------------------------------------  12.3/12.6 MB 1.9 MB/s eta 0:00:01\n",
            "   ---------------------------------------  12.4/12.6 MB 1.9 MB/s eta 0:00:01\n",
            "   ---------------------------------------  12.5/12.6 MB 1.9 MB/s eta 0:00:01\n",
            "   ---------------------------------------  12.6/12.6 MB 1.9 MB/s eta 0:00:01\n",
            "   ---------------------------------------  12.6/12.6 MB 1.9 MB/s eta 0:00:01\n",
            "   ---------------------------------------  12.6/12.6 MB 1.9 MB/s eta 0:00:01\n",
            "   ---------------------------------------  12.6/12.6 MB 1.9 MB/s eta 0:00:01\n",
            "   ---------------------------------------  12.6/12.6 MB 1.9 MB/s eta 0:00:01\n",
            "   ---------------------------------------- 12.6/12.6 MB 1.8 MB/s eta 0:00:00\n",
            "Installing collected packages: numpy\n",
            "  Attempting uninstall: numpy\n",
            "    Found existing installation: numpy 1.26.4\n",
            "    Uninstalling numpy-1.26.4:\n",
            "      Successfully uninstalled numpy-1.26.4\n",
            "Successfully installed numpy-2.1.1\n",
            "Note: you may need to restart the kernel to use updated packages.\n"
          ]
        },
        {
          "name": "stderr",
          "output_type": "stream",
          "text": [
            "ERROR: pip's dependency resolver does not currently take into account all the packages that are installed. This behaviour is the source of the following dependency conflicts.\n",
            "contourpy 1.2.0 requires numpy<2.0,>=1.20, but you have numpy 2.1.1 which is incompatible.\n",
            "numba 0.59.1 requires numpy<1.27,>=1.22, but you have numpy 2.1.1 which is incompatible.\n",
            "pywavelets 1.5.0 requires numpy<2.0,>=1.22.4, but you have numpy 2.1.1 which is incompatible.\n",
            "streamlit 1.32.0 requires numpy<2,>=1.19.3, but you have numpy 2.1.1 which is incompatible.\n"
          ]
        }
      ],
      "source": [
        "%pip install -U numpy"
      ]
    },
    {
      "cell_type": "markdown",
      "metadata": {
        "id": "CObpQjkJeDtd"
      },
      "source": [
        "\n",
        "\n",
        "`numpy`는 파이썬을 활용할 때 아주 자주 쓰이는 패키지다. 특히 기존의 머신러닝에서는 거의 항상 사용된다. 사용할 때마다 다섯 글자씩 이름을 입력하는 것이 번거로우므로, 관습적으로 `np` 두 글자로 줄여서 가져온다."
      ]
    },
    {
      "cell_type": "code",
      "execution_count": 4,
      "metadata": {
        "id": "g6ELvtUl_zkM"
      },
      "outputs": [],
      "source": [
        "import numpy as np"
      ]
    },
    {
      "cell_type": "markdown",
      "metadata": {
        "id": "ImidnDGCGfeA"
      },
      "source": [
        "### 함수 예시\n",
        "\n",
        "우선 `numpy`는 Numerical Python이라는 이름에 걸맞게 수치 연산에 필요한 함수를 많이 갖고 있다.\n",
        "\n",
        "예를 들어 모든 값들의 평균을 구하는 `np.mean()`, 가장 큰 값의 인덱스를 구하는 `np.argmax()` 등이 자주 사용된다."
      ]
    },
    {
      "cell_type": "code",
      "execution_count": 5,
      "metadata": {
        "colab": {
          "base_uri": "https://localhost:8080/"
        },
        "id": "4uSlJ6hqjHMw",
        "outputId": "20901238-ad60-41ab-ac84-ac182d5b66fa"
      },
      "outputs": [
        {
          "name": "stdout",
          "output_type": "stream",
          "text": [
            "mean of x\t3.8333333333333335\n",
            "argmax of y\t3\n"
          ]
        }
      ],
      "source": [
        "x = [3, 1, 4, 1, 5, 9]\n",
        "y = [2, 3, 0, 5, 1, 0]\n",
        "\n",
        "# x의 평균: (3+1+4+1+5+9)/6\n",
        "print('mean of x', np.mean(x), sep='\\t')\n",
        "\n",
        "# y의 최댓값의 인덱스: 최댓값 5에 해당하는 인덱스 3(네 번째 원소)\n",
        "print('argmax of y', np.argmax(y), sep='\\t')"
      ]
    },
    {
      "cell_type": "markdown",
      "metadata": {
        "id": "i-sB2dJOFsJl"
      },
      "source": [
        "### 배열(array) 자료형\n",
        "\n",
        "위에서 `np.mean()`, `np.argmax()` 등의 함수가 리스트를 인자로 받을 수 있다는 것을 살펴보았다.\n",
        "\n",
        "그러나 `numpy`에서 기본적으로 사용하는 자료형은 `numpy.ndarray`이다. `ndarray`는 $n$차원 배열을 의미한다. 앞서 알아본 벡터는 배열의 특수한 경우에 해당한다.\n",
        "\n",
        "리스트 `x`와 `y`를 배열로 형변환해 보자. 파이썬 코드에서 `numpy.ndarray`는 `np.array`라고 쓴다.\n",
        "\n",
        "\n",
        "\n"
      ]
    },
    {
      "cell_type": "code",
      "execution_count": 6,
      "metadata": {
        "colab": {
          "base_uri": "https://localhost:8080/"
        },
        "id": "0A4d-9p3ADnZ",
        "outputId": "026d0a7b-f84b-4c56-8a01-40e4924945e2"
      },
      "outputs": [
        {
          "name": "stdout",
          "output_type": "stream",
          "text": [
            "x = [3 1 4 1 5 9]\n",
            "y = [2 3 0 5 1 0]\n",
            "<class 'numpy.ndarray'>\n"
          ]
        }
      ],
      "source": [
        "# 형변환\n",
        "x = np.array(x)\n",
        "y = np.array(y)\n",
        "\n",
        "print('x =', x)\n",
        "print('y =', y)\n",
        "print(type(x))"
      ]
    },
    {
      "cell_type": "markdown",
      "metadata": {
        "id": "zOc3kVdCJJHo"
      },
      "source": [
        "`type()` 함수로 자료형을 확인해 보면 `numpy.ndarray`인 것을 확인할 수 있다.\n",
        "\n",
        "이 배열이라는 자료형에서는 덧셈 기호(`+`)와 곱셈 기호(`*`)가 각각 합과 상수배의 연산을 수행한다."
      ]
    },
    {
      "cell_type": "code",
      "execution_count": 7,
      "metadata": {
        "colab": {
          "base_uri": "https://localhost:8080/"
        },
        "id": "ix5W2wN5I9np",
        "outputId": "209ff857-864c-4e21-eac4-00b8bafd546f"
      },
      "outputs": [
        {
          "name": "stdout",
          "output_type": "stream",
          "text": [
            "x + y = [5 4 4 6 6 9]\n",
            "2 * x = [ 6  2  8  2 10 18]\n"
          ]
        }
      ],
      "source": [
        "print('x + y =', x + y) # 합: 원소별로 더함\n",
        "print('2 * x =', x * 2) # 상수배: 각 원소에 상수를 곱함"
      ]
    },
    {
      "cell_type": "markdown",
      "metadata": {
        "id": "VLftaNsCKBMU"
      },
      "source": [
        "배열의 편리한 점은 또 있다. `numpy`에서는 배열을 하나의 수치처럼 놓고 비교 연산, 거듭제곱 연산 등을 수행할 수 있다.\n",
        "\n",
        "예를 들어 `x > 2`는 `x`의 모든 원소를 각각 비교한 결과로 이루어진 배열이 되고, `x ** 2`는 `x`의 모든 원소를 각각 제곱한 결과로 이루어진 배열이 된다.\n"
      ]
    },
    {
      "cell_type": "code",
      "execution_count": 8,
      "metadata": {
        "colab": {
          "base_uri": "https://localhost:8080/"
        },
        "id": "1M958XEOJro4",
        "outputId": "8cc79b8c-9965-4c68-a662-c7d278ad8f76"
      },
      "outputs": [
        {
          "name": "stdout",
          "output_type": "stream",
          "text": [
            "x > 2  = [ True False  True False  True  True]\n",
            "x ** 2 = [ 9  1 16  1 25 81]\n"
          ]
        }
      ],
      "source": [
        "print('x > 2  =', x > 2) # 원소별 비교\n",
        "print('x ** 2 =', x ** 2) # 각 원소의 제곱"
      ]
    },
    {
      "cell_type": "markdown",
      "metadata": {
        "id": "FecnrRXD1nOs"
      },
      "source": [
        "### 다차원 배열 만들기\n",
        "\n",
        "이제 벡터보다 더 복잡한 배열을 만들어 보자.\n",
        "\n",
        "보통 값들을 한 방향으로 나열한 배열(1-D array)을 벡터(vector)라고 하고, 두 방향으로 나열한 배열(2-D array)을 행렬(matrix)라고 하며, 세 방향 이상으로 나열한 것을 텐서(tensor)라고 한다.\n",
        "\n",
        "아래 그림과 같이 벡터를 쌓아서 행렬을 만들고 행렬을 쌓아서 텐서를 만든다고 이해할 수 있다."
      ]
    },
    {
      "cell_type": "markdown",
      "metadata": {
        "id": "Ty-qG9LPjkXY"
      },
      "source": [
        "![array-stack.png](data:image/png;base64,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)"
      ]
    },
    {
      "cell_type": "markdown",
      "metadata": {
        "id": "3JuD_FRtMB20"
      },
      "source": [
        "#### `np.zeros()` 함수: 0으로 채우기\n",
        "\n",
        "`np.zeros()` 함수는 0으로 채워진 배열을 반환하는 함수다. 인자로는 정수로 이루어진 튜플이 들어간다. 튜플의 원소는 배열의 차원을 의미한다. 이런 튜플을 배열의 형상(shape)이라고 한다.\n",
        "\n",
        "+ `np.zeros((3,))` 0번째 방향(행, 가로축)으로 3개의 0을 나열한 배열\n",
        "+ `np.zeros((4, 3))` 위의 배열을 새로운 방향(열, 세로축)으로 4개 쌓은 배열\n",
        "+ `np.zeros((2, 4, 3))` 위의 배열을 새로운 방향으로 2개 쌓은 배열"
      ]
    },
    {
      "cell_type": "code",
      "execution_count": 9,
      "metadata": {
        "colab": {
          "base_uri": "https://localhost:8080/"
        },
        "id": "_qL82x2VBujC",
        "outputId": "12761768-4ea2-4b95-f489-a1d1afff16c6"
      },
      "outputs": [
        {
          "name": "stdout",
          "output_type": "stream",
          "text": [
            "[0. 0. 0.]\n"
          ]
        }
      ],
      "source": [
        "print(np.zeros((3,)))"
      ]
    },
    {
      "cell_type": "code",
      "execution_count": 10,
      "metadata": {
        "colab": {
          "base_uri": "https://localhost:8080/"
        },
        "id": "mQN6j34iB5Bz",
        "outputId": "7348cc9d-da10-4ad9-daf8-9b7a2be7ad70"
      },
      "outputs": [
        {
          "name": "stdout",
          "output_type": "stream",
          "text": [
            "[[0. 0. 0.]\n",
            " [0. 0. 0.]\n",
            " [0. 0. 0.]\n",
            " [0. 0. 0.]]\n"
          ]
        }
      ],
      "source": [
        "print(np.zeros((4, 3)))"
      ]
    },
    {
      "cell_type": "code",
      "execution_count": 11,
      "metadata": {
        "colab": {
          "base_uri": "https://localhost:8080/"
        },
        "id": "nv02lWYkB7c2",
        "outputId": "9f0cc749-31dc-447e-ee13-a97b5d9cb9aa"
      },
      "outputs": [
        {
          "name": "stdout",
          "output_type": "stream",
          "text": [
            "[[[0. 0. 0.]\n",
            "  [0. 0. 0.]\n",
            "  [0. 0. 0.]\n",
            "  [0. 0. 0.]]\n",
            "\n",
            " [[0. 0. 0.]\n",
            "  [0. 0. 0.]\n",
            "  [0. 0. 0.]\n",
            "  [0. 0. 0.]]]\n"
          ]
        }
      ],
      "source": [
        "print(np.zeros((2, 4, 3)))"
      ]
    },
    {
      "cell_type": "markdown",
      "metadata": {
        "id": "ql3P3_YYNrca"
      },
      "source": [
        "여기에서 `(3,)`, `(4, 3)`, `(2, 4, 3)` 등을 배열의 형상(shape)이라고 한다.\n",
        "\n",
        "차원의 개수가 늘어날수록 배열이 복잡해지는데, 항상 마지막 차원의 방향이 가로축, 마지막 바로 앞의 차원의 방향이 세로축이 된다."
      ]
    },
    {
      "cell_type": "markdown",
      "metadata": {
        "id": "ggOpFUvZNZ92"
      },
      "source": [
        "#### `np.ones()` 함수: 1로 채우기\n",
        "\n",
        "`np.ones()` 함수는 1로 채워진 배열을 반환하는 함수다. 필수 인자로는 `np.zeros()`와 마찬가지로 배열의 형상을 나타내는 튜플이 들어간다."
      ]
    },
    {
      "cell_type": "code",
      "execution_count": 12,
      "metadata": {
        "colab": {
          "base_uri": "https://localhost:8080/"
        },
        "id": "aptQSt8693m6",
        "outputId": "852e3086-da41-4f15-93a5-405aad3f1d12"
      },
      "outputs": [
        {
          "name": "stdout",
          "output_type": "stream",
          "text": [
            "[[1. 1.]\n",
            " [1. 1.]\n",
            " [1. 1.]]\n"
          ]
        }
      ],
      "source": [
        "print(np.ones((3, 2)))"
      ]
    },
    {
      "cell_type": "markdown",
      "metadata": {
        "id": "0u-rXhwyN3eG"
      },
      "source": [
        "위의 실행 결과를 자세히 살펴보면 `np.zeros()`와 `np.ones()` 모두 기본적으로 `float` 자료형의 값들을 생성한다. `float` 이외의 자료형으로 만들고 싶으면 `dtype`이라는 인자의 값으로 자료형을 넣어 주면 된다.\n",
        "\n",
        "예를 들어 `int` 자료형에서 1은 정수 `1`이다."
      ]
    },
    {
      "cell_type": "code",
      "execution_count": 13,
      "metadata": {
        "colab": {
          "base_uri": "https://localhost:8080/"
        },
        "id": "26JDjCtY-ASx",
        "outputId": "9b5e4081-45a9-493d-eaa3-49a4e7bc502f"
      },
      "outputs": [
        {
          "name": "stdout",
          "output_type": "stream",
          "text": [
            "[[1 1]\n",
            " [1 1]\n",
            " [1 1]]\n"
          ]
        }
      ],
      "source": [
        "print(np.ones((3, 2), dtype=int))"
      ]
    },
    {
      "cell_type": "markdown",
      "metadata": {
        "id": "18p1-DjnOOEb"
      },
      "source": [
        "`bool` 자료형에서는 1이 `True`다."
      ]
    },
    {
      "cell_type": "code",
      "execution_count": 14,
      "metadata": {
        "colab": {
          "base_uri": "https://localhost:8080/"
        },
        "id": "XgohOhjq9-6T",
        "outputId": "d5820f42-ade8-4751-ed20-34da400159d7"
      },
      "outputs": [
        {
          "name": "stdout",
          "output_type": "stream",
          "text": [
            "[[ True  True]\n",
            " [ True  True]\n",
            " [ True  True]]\n"
          ]
        }
      ],
      "source": [
        "print(np.ones((3, 2), dtype=bool))"
      ]
    },
    {
      "cell_type": "markdown",
      "metadata": {
        "id": "UJkr8alYOXwa"
      },
      "source": [
        "#### `np.empty()` 함수: 아무 값으로나 채우기\n",
        "\n",
        "문제를 해결하는 과정에서는 특정한 형상의 빈 배열을 일단 만들어 놓고 나중에 구체적인 값을 업데이트하는 경우가 많다. 이 경우 `np.empty()`를 사용하는 것이 가장 효율적이다.\n",
        "\n",
        "예를 들어 아래 코드에서는 `(5, 4)` 형상의 각 자리에 아무 값이나 넣어서 만든 배열을 돌려준다. 이 경우 배열은 $(5\\times4)$차원 행렬에 해당한다."
      ]
    },
    {
      "cell_type": "code",
      "execution_count": 15,
      "metadata": {
        "colab": {
          "base_uri": "https://localhost:8080/"
        },
        "id": "wpLVR4KnCKdq",
        "outputId": "f00c5988-fbb6-4fc7-c7ca-ae3149fefd2b"
      },
      "outputs": [
        {
          "name": "stdout",
          "output_type": "stream",
          "text": [
            "[[6.23042070e-307 4.67296746e-307 1.69121096e-306 7.56587585e-307]\n",
            " [1.37961302e-306 1.05699242e-307 8.01097889e-307 1.78020169e-306]\n",
            " [7.56601165e-307 1.02359984e-306 1.11259940e-306 1.11261774e-306]\n",
            " [1.78019625e-306 1.11261774e-306 1.78019625e-306 1.11261774e-306]\n",
            " [1.78019625e-306 1.24610994e-306 1.11261570e-306 1.42410974e-306]]\n"
          ]
        }
      ],
      "source": [
        "print(np.empty((5, 4)))"
      ]
    },
    {
      "cell_type": "markdown",
      "metadata": {
        "id": "WCQWjGY6B_6b"
      },
      "source": [
        "### 배열의 형상\n",
        "\n",
        "이제 0이나 1, 혹은 아무 값으로나 채워진 배열이 아니라 실제로 유의미한 값들을 가지는 배열을 살펴보자.\n",
        "\n",
        "여기에서는 형상이 `(2, 4, 3)`인 배열을 설정하겠다. 이것은 3차원 배열 4개를 쌓아서 만든 `(4, 3)`차원 배열 2개를 쌓아서 만든 `(2, 4, 3)`차원 배열로 이해할 수 있다."
      ]
    },
    {
      "cell_type": "markdown",
      "metadata": {
        "id": "TKoMFl2ZD5iA"
      },
      "source": [
        "#### `np.arange()` 함수: `range()`의 `numpy` 버전\n",
        "\n",
        "형상이 `(2, 4, 3)`인 배열은 $2 \\times 4 \\times 3=24$개의 원소를 세 방향으로 나열한 것이다.\n",
        "\n",
        "즉, 배열을 완성하기 위해서는 24개의 값이 필요하다.\n",
        "\n",
        "이 24개의 값으로는 0부터 23까지의 24개 정수를 사용하려고 한다. 이것은 `range(24)`로 표현할 수도 있지만, `numpy`를 사용하는 김에 `np.arange(24)`를 써 보자. 둘의 차이는 반환값의 자료형이다. `range()`는 `range`라는 고유의 자료형을 돌려주지만, `np.arange()`는 `numpy.ndarray` 배열을 반환한다."
      ]
    },
    {
      "cell_type": "code",
      "execution_count": 16,
      "metadata": {
        "colab": {
          "base_uri": "https://localhost:8080/"
        },
        "id": "YzuZ_up6EmnS",
        "outputId": "751fae17-f136-4b8d-f6e3-df996711f561"
      },
      "outputs": [
        {
          "name": "stdout",
          "output_type": "stream",
          "text": [
            "<class 'range'>\n",
            "range(0, 24)\n"
          ]
        }
      ],
      "source": [
        "print(type(range(2 * 4 * 3)))\n",
        "print(range(24))"
      ]
    },
    {
      "cell_type": "code",
      "execution_count": 17,
      "metadata": {
        "colab": {
          "base_uri": "https://localhost:8080/"
        },
        "id": "ea4q63mlDI8B",
        "outputId": "3ecccfdd-eb5b-4bc6-cdcb-0c43fef83a25"
      },
      "outputs": [
        {
          "name": "stdout",
          "output_type": "stream",
          "text": [
            "<class 'numpy.ndarray'>\n",
            "[ 0  1  2  3  4  5  6  7  8  9 10 11 12 13 14 15 16 17 18 19 20 21 22 23]\n"
          ]
        }
      ],
      "source": [
        "a = np.arange(2 * 4 * 3)\n",
        "print(type(a))\n",
        "print(a)"
      ]
    },
    {
      "cell_type": "markdown",
      "metadata": {
        "id": "9pGZJ8QcGOZX"
      },
      "source": [
        "#### `np.ndarray.shape` 속성: 배열의 형상\n",
        "\n",
        "위에서 만든 배열의 형상은 `.shape` 속성에서 확인할 수 있다. `np.arange(24)`로 만들어진 배열은 `(24, )`, 즉 24차원 벡터가 된다."
      ]
    },
    {
      "cell_type": "code",
      "execution_count": 18,
      "metadata": {
        "colab": {
          "base_uri": "https://localhost:8080/"
        },
        "id": "FSCOyy657vqH",
        "outputId": "4306fa38-ad6a-454d-db03-1eb83ebd224d"
      },
      "outputs": [
        {
          "name": "stdout",
          "output_type": "stream",
          "text": [
            "(24,)\n"
          ]
        }
      ],
      "source": [
        "print(a.shape)"
      ]
    },
    {
      "cell_type": "markdown",
      "metadata": {
        "id": "SzCjHNmrHe1x"
      },
      "source": [
        "#### `np.ndarray.reshape()` 메소드: 배열의 형상 바꾸기\n",
        "\n",
        "다음으로는 이 24차원 벡터의 원소들을 다른 형상으로 배열해 볼 것이다.\n",
        "\n",
        "배열의 형상을 바꾸기 위해서는 `.reshape()` 메소드를 사용하고, 인자로는 형상을 나타내는 튜플이 들어간다.\n",
        "\n",
        "예를 들어 24개의 원소는 `(2, 3, 4)` 형상으로 배열될 수 있다."
      ]
    },
    {
      "cell_type": "code",
      "execution_count": 19,
      "metadata": {
        "colab": {
          "base_uri": "https://localhost:8080/"
        },
        "id": "Nhuc8tO3qqtj",
        "outputId": "53669c06-426a-4fb4-baa6-793391febd4c"
      },
      "outputs": [
        {
          "name": "stdout",
          "output_type": "stream",
          "text": [
            "[[[ 0  1  2  3]\n",
            "  [ 4  5  6  7]\n",
            "  [ 8  9 10 11]]\n",
            "\n",
            " [[12 13 14 15]\n",
            "  [16 17 18 19]\n",
            "  [20 21 22 23]]]\n"
          ]
        }
      ],
      "source": [
        "print(a.reshape((2, 3, 4)))"
      ]
    },
    {
      "cell_type": "markdown",
      "metadata": {
        "id": "khQO-hgSIOGU"
      },
      "source": [
        "또 `(4, 6)` 형상으로도 배열될 수 있다."
      ]
    },
    {
      "cell_type": "code",
      "execution_count": 20,
      "metadata": {
        "colab": {
          "base_uri": "https://localhost:8080/"
        },
        "id": "CQJCrXp95VZx",
        "outputId": "96e493dc-0156-4226-c4df-1f07d17a5994"
      },
      "outputs": [
        {
          "name": "stdout",
          "output_type": "stream",
          "text": [
            "[[ 0  1  2  3  4  5]\n",
            " [ 6  7  8  9 10 11]\n",
            " [12 13 14 15 16 17]\n",
            " [18 19 20 21 22 23]]\n"
          ]
        }
      ],
      "source": [
        "print(a.reshape((4, 6)))"
      ]
    },
    {
      "cell_type": "markdown",
      "metadata": {
        "id": "MZjG5NzpIkr8"
      },
      "source": [
        "한편 24개의 원소를 `(3, 5)` 형상으로 배치할 수는 없으므로, 이를 시도하면 `ValueError`가 발생한다."
      ]
    },
    {
      "cell_type": "code",
      "execution_count": 21,
      "metadata": {
        "colab": {
          "base_uri": "https://localhost:8080/",
          "height": 145
        },
        "id": "KoxTZ3sEIS3o",
        "outputId": "68d724e1-5bda-4f1e-8856-dbb26b094919"
      },
      "outputs": [
        {
          "ename": "ValueError",
          "evalue": "cannot reshape array of size 24 into shape (3,5)",
          "output_type": "error",
          "traceback": [
            "\u001b[1;31m---------------------------------------------------------------------------\u001b[0m",
            "\u001b[1;31mValueError\u001b[0m                                Traceback (most recent call last)",
            "Cell \u001b[1;32mIn[21], line 1\u001b[0m\n\u001b[1;32m----> 1\u001b[0m a\u001b[38;5;241m.\u001b[39mreshape((\u001b[38;5;241m3\u001b[39m, \u001b[38;5;241m5\u001b[39m))\n",
            "\u001b[1;31mValueError\u001b[0m: cannot reshape array of size 24 into shape (3,5)"
          ]
        }
      ],
      "source": [
        "a.reshape((3, 5))"
      ]
    },
    {
      "cell_type": "markdown",
      "metadata": {
        "id": "6J7bdTQAI0zw"
      },
      "source": [
        "#### `np.random` 모듈\n",
        "\n",
        "0부터 24까지의 값을 순서대로 나열하면 심심하므로, 순서를 뒤섞어서 재배치해 보자.\n",
        "\n",
        "`numpy` 패키지에는 랜덤으로 값을 재배치하거나 생성하기 위한 함수로 이루어진 `np.random` 모듈이 포함되어 있다.\n",
        "\n",
        "아래 코드에서는 먼저 랜덤으로 값을 재배치하되 결과를 똑같이 재현할 수 있도록 `np.random.seed()` 함수로 seed를 설정한다. seed의 값으로는 $0$부터 $(2^{32}-1)$ 사이의 정수가 사용될 수 있다. 여기에서는 1055를 seed로 삼는다.\n",
        "\n",
        "다음으로는 `np.random.shuffle()` 함수로 값을 뒤섞는다. 이때 함수를 호출하는 것만으로 `a`의 순서가 뒤섞였으므로, 이 함수는 원본을 변화시키는 파괴적 함수라고 할 수 있다."
      ]
    },
    {
      "cell_type": "code",
      "execution_count": 22,
      "metadata": {
        "colab": {
          "base_uri": "https://localhost:8080/"
        },
        "id": "zABQuHXEjfvC",
        "outputId": "d2bd0cb0-f991-4807-e891-b25e33b79123"
      },
      "outputs": [
        {
          "name": "stdout",
          "output_type": "stream",
          "text": [
            "[15 16 13  9  5  0  3  4 12 22  1 20 21 19 11 17 14  7  2  6  8 18 23 10]\n"
          ]
        }
      ],
      "source": [
        "np.random.seed(1055) # seed 설정 # https://www.youtube.com/watch?v=pXMH56hJBVI\n",
        "a = np.arange(24)\n",
        "np.random.shuffle(a) # 순서 뒤섞기\n",
        "print(a)"
      ]
    },
    {
      "cell_type": "markdown",
      "metadata": {
        "id": "8Ri2RT4HLSVz"
      },
      "source": [
        "이제 `a`의 형상을 `(2, 4, 3)`으로 바꾸어 주면 위의 값들이 새로운 형상에 맞게 나열된다."
      ]
    },
    {
      "cell_type": "code",
      "execution_count": 23,
      "metadata": {
        "colab": {
          "base_uri": "https://localhost:8080/"
        },
        "id": "IvU4D0cTEdMh",
        "outputId": "e0eaf2f5-d0ec-4cf8-95be-053375810f5c"
      },
      "outputs": [
        {
          "name": "stdout",
          "output_type": "stream",
          "text": [
            "[[[15 16 13]\n",
            "  [ 9  5  0]\n",
            "  [ 3  4 12]\n",
            "  [22  1 20]]\n",
            "\n",
            " [[21 19 11]\n",
            "  [17 14  7]\n",
            "  [ 2  6  8]\n",
            "  [18 23 10]]]\n",
            "(2, 4, 3)\n"
          ]
        }
      ],
      "source": [
        "A = a.reshape((2, 4, 3))\n",
        "print(A)\n",
        "print(A.shape)"
      ]
    },
    {
      "cell_type": "markdown",
      "metadata": {
        "id": "Sw1sDzJWLPC6"
      },
      "source": [
        "#### 인덱싱과 슬라이싱\n",
        "\n",
        "배열의 일부분이나 특정한 원소에 접근하기 위해서는 리스트와 마찬가지로 인덱스와 슬라이스를 사용할 수 있다.\n",
        "\n",
        "우선 인덱스 값을 하나만 사용하는 경우를 살펴보자. `A[0]`은 배열 `A`의 첫 번째 차원의 0번 인덱스에 해당하는 값을 말한다. `A`의 형상은 `(2, 4, 3)`이고, 이는 `(4, 3)` 형상의 배열 2개를 쌓은 것으로 이해할 수 있다. 그러므로 `A[0]`은 두 개의 `(4, 3)` 배열 중 첫 번째에 해당한다."
      ]
    },
    {
      "cell_type": "code",
      "execution_count": 24,
      "metadata": {
        "colab": {
          "base_uri": "https://localhost:8080/"
        },
        "id": "hOGxW-7kYvF9",
        "outputId": "ae6a27b2-a187-4aaa-c570-0c8d5320e0fd"
      },
      "outputs": [
        {
          "name": "stdout",
          "output_type": "stream",
          "text": [
            "[[15 16 13]\n",
            " [ 9  5  0]\n",
            " [ 3  4 12]\n",
            " [22  1 20]]\n"
          ]
        }
      ],
      "source": [
        "print(A[0])"
      ]
    },
    {
      "cell_type": "markdown",
      "metadata": {
        "id": "7AjpzXSNMc0g"
      },
      "source": [
        "`A[0]` 또한 배열이므로 여기에 다시 인덱싱을 적용할 수 있다. `A[0]`의 1번 인덱스에 해당하는 값은 `A[0][1]`로 접근할 수 있는데, `numpy`에서는 이것을 `A[0,1]`로 표현하는 것이 일반적이다."
      ]
    },
    {
      "cell_type": "code",
      "execution_count": 25,
      "metadata": {
        "colab": {
          "base_uri": "https://localhost:8080/"
        },
        "id": "XrabdrNEY3BA",
        "outputId": "c357642d-f697-41c9-b346-e0501f517fb3"
      },
      "outputs": [
        {
          "name": "stdout",
          "output_type": "stream",
          "text": [
            "[9 5 0]\n",
            "[9 5 0]\n"
          ]
        }
      ],
      "source": [
        "print(A[0,1]) # common\n",
        "print(A[0][1])"
      ]
    },
    {
      "cell_type": "markdown",
      "metadata": {
        "id": "0MjT2Q10M2ix"
      },
      "source": [
        "마찬가지로 `A[0][1][2]`는 `A[0,1,2]`로 쓴다."
      ]
    },
    {
      "cell_type": "code",
      "execution_count": 26,
      "metadata": {
        "colab": {
          "base_uri": "https://localhost:8080/"
        },
        "id": "MQbnzt9tl7WM",
        "outputId": "9aeb9065-169c-4523-fa48-f9e82b9a002b"
      },
      "outputs": [
        {
          "name": "stdout",
          "output_type": "stream",
          "text": [
            "0\n",
            "0\n"
          ]
        }
      ],
      "source": [
        "print(A[0,1,2])\n",
        "print(A[0][1][2])"
      ]
    },
    {
      "cell_type": "markdown",
      "metadata": {
        "id": "j5i31IMAM-tW"
      },
      "source": [
        "슬라이싱 역시 기존의 용례와 같되 차원의 개수만큼 사용할 수 있다.\n",
        "\n",
        "`A[0,:,2]`은 `A[0]`에 포함된 모든(`[:]`) 배열에서 세 번째(`[2]`) 값을 가져오라는 뜻이다."
      ]
    },
    {
      "cell_type": "code",
      "execution_count": 27,
      "metadata": {
        "colab": {
          "base_uri": "https://localhost:8080/"
        },
        "id": "6RCuzKndmH_v",
        "outputId": "77368bae-fa38-40ea-c998-d4f04e119836"
      },
      "outputs": [
        {
          "name": "stdout",
          "output_type": "stream",
          "text": [
            "[13  0 12 20]\n"
          ]
        }
      ],
      "source": [
        "print(A[0,:,2])"
      ]
    },
    {
      "cell_type": "markdown",
      "metadata": {
        "id": "BekbCR-sOO7P"
      },
      "source": [
        "#### `np.ndarray.max()` 메소드와 축의 개념\n",
        "\n",
        "이제 배열의 최댓값을 다양한 방향에서 구해 보자.\n",
        "\n",
        "최댓값을 얻기 위해서는 `np.max()` 함수나 `np.ndarray.max()` 메소드를 사용할 수 있다. 여기에서는 타자 수를 줄이기 위해 `np.max(A)`보다 `A.max()`를 사용하겠다.\n",
        "\n",
        "우선 메소드를 아무 인자 없이 호출하면 `A`라는 배열의 모든 원소 중에서 가장 큰 값을 반환한다."
      ]
    },
    {
      "cell_type": "code",
      "execution_count": 28,
      "metadata": {
        "colab": {
          "base_uri": "https://localhost:8080/"
        },
        "id": "f7yQRD6_OcoM",
        "outputId": "194b5e91-c665-4965-cc73-1b8d2d1a8816"
      },
      "outputs": [
        {
          "name": "stdout",
          "output_type": "stream",
          "text": [
            "23\n"
          ]
        }
      ],
      "source": [
        "print(A.max())"
      ]
    },
    {
      "cell_type": "markdown",
      "metadata": {
        "id": "f19HPX_ERYCT"
      },
      "source": [
        "그런데 배열을 사용하는 이유는 일반적으로 각 차원의 방향축이 유의미한 정보를 담고 있기 때문이다. 그래서 `max()` 함수에는 이를 반영하기 위해 `axis`라는 인자가 포함되어 있다.\n",
        "\n",
        "`axis`의 값은 형상 튜플의 인덱스를 의미한다. 즉, `A.max(axis=0)`는 0번 인덱스에 해당하는 첫 번째 차원의 방향축을 따라 이동하면서 최댓값을 구하게 된다. 아래 그림을 참조하면, 형상이 `(2, 4, 3)`인 배열의 최댓값을 구할 때 인자의 값을 `axis=0`로 설정하는 경우 결과의 형상은 첫 번째 차원의 값을 소거한 `(4, 3)`이 된다. `axis=1`, `axis=2`도 같은 방식으로 작동한다.\n"
      ]
    },
    {
      "cell_type": "markdown",
      "metadata": {
        "id": "jL8XzIRuN-JP"
      },
      "source": [
        "![array-max.png](data:image/png;base64,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)"
      ]
    },
    {
      "cell_type": "code",
      "execution_count": 29,
      "metadata": {
        "colab": {
          "base_uri": "https://localhost:8080/"
        },
        "id": "AOmV_hJAJL6q",
        "outputId": "c87c1dc9-fc83-4fc0-f484-1e70dfa1b303"
      },
      "outputs": [
        {
          "name": "stdout",
          "output_type": "stream",
          "text": [
            "[[21 19 13]\n",
            " [17 14  7]\n",
            " [ 3  6 12]\n",
            " [22 23 20]]\n",
            "\n",
            "[[22 16 20]\n",
            " [21 23 11]]\n",
            "\n",
            "[[16  9 12 22]\n",
            " [21 17  8 23]]\n",
            "\n",
            "[[16  9 12 22]\n",
            " [21 17  8 23]]\n"
          ]
        }
      ],
      "source": [
        "print(A.max(axis=0))\n",
        "print()\n",
        "print(A.max(axis=1))\n",
        "print()\n",
        "print(A.max(axis=2))\n",
        "print()\n",
        "print(A.max(axis=-1))"
      ]
    },
    {
      "cell_type": "markdown",
      "metadata": {
        "id": "GTwqmbmmUTsV"
      },
      "source": [
        "최댓값을 구하는 `max()` 뿐만 아니라 평균값을 구하는 `mean()`도 같은 방식으로 작동한다."
      ]
    },
    {
      "cell_type": "markdown",
      "metadata": {
        "id": "Vt8jLtHoTbt5"
      },
      "source": [
        "### 배열 활용 예시\n",
        "\n",
        "차원이 3개인 배열을 실제로 어떤 경우에 사용할 수 있을까?\n",
        "\n",
        "현실에 가까운 예시로 성적부를 생각할 수 있다.\n",
        "\n",
        "학생 두 명이 3~6월에 걸쳐 국어, 수학, 영어 3과목의 시험을 보았다고 가정하자. 여기서 시험 점수는 학생, 월, 과목 세 개의 요인에 따라 나열될 수 있다. 요인 하나가 배열의 방향축 하나에 해당한다.\n",
        "\n",
        "1. 첫 번째 차원: 학생(2명)\n",
        "1. 두 번째 차원: 월(4개월)\n",
        "1. 세 번째 차원: 과목(3개)\n",
        "\n",
        "즉, 아래 그림과 같이 두 장의 성적표로 이루어진 성적부를 배열로 표현하겠다는 것이다."
      ]
    },
    {
      "cell_type": "markdown",
      "metadata": {
        "id": "eJ1puAwFTb5O"
      },
      "source": [
        "![array-example.png](data:image/png;base64,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)"
      ]
    },
    {
      "cell_type": "code",
      "execution_count": 30,
      "metadata": {
        "colab": {
          "base_uri": "https://localhost:8080/"
        },
        "id": "Axv7XAzthAKz",
        "outputId": "a44b8e30-d8c8-4aa0-8079-580d88daa1a7"
      },
      "outputs": [
        {
          "data": {
            "text/plain": [
              "(2, 4, 3)"
            ]
          },
          "execution_count": 30,
          "metadata": {},
          "output_type": "execute_result"
        }
      ],
      "source": [
        "scores = np.array(\n",
        "    [[[80, 75, 90],\n",
        "      [84, 81, 93],\n",
        "      [89, 72, 98],\n",
        "      [88, 85, 97]],\n",
        "\n",
        "     [[91, 83, 79],\n",
        "      [84, 99, 82],\n",
        "      [92, 90, 85],\n",
        "      [93, 92, 80]]]\n",
        ")\n",
        "scores.shape"
      ]
    },
    {
      "cell_type": "markdown",
      "metadata": {
        "id": "0zJiw4lXVuor"
      },
      "source": [
        "이 배열에서 `.mean()` 메소드를 아무 인자 없이 호출하면 모든 시험 점수의 평균값이 구해진다."
      ]
    },
    {
      "cell_type": "code",
      "execution_count": 31,
      "metadata": {
        "colab": {
          "base_uri": "https://localhost:8080/"
        },
        "id": "X2IpP_ZUhkN4",
        "outputId": "41d831f4-c0d4-42af-fb9a-89cea65a0fdc"
      },
      "outputs": [
        {
          "name": "stdout",
          "output_type": "stream",
          "text": [
            "86.75\n"
          ]
        }
      ],
      "source": [
        "print(scores.mean())"
      ]
    },
    {
      "cell_type": "markdown",
      "metadata": {
        "id": "tdt_xckuWElM"
      },
      "source": [
        "그러나 일반적으로 성적을 집계할 때는 학생별 평균 등 특정한 요인에 따라 평균값을 구하게 된다.\n",
        "\n",
        "예를 들어 `axis=0`으로 설정하면 학생의 축을 따라 평균값을 구한다. 이것은 반 전체의 월별·과목별 평균을 계산하는 것과 같다. 가령 이 학급의 3월 국어 성적 평균은 85.5점, 3월 수학 점수는 79.0점, 3월 영어 점수는 84.5점인 식이다."
      ]
    },
    {
      "cell_type": "code",
      "execution_count": 32,
      "metadata": {
        "colab": {
          "base_uri": "https://localhost:8080/"
        },
        "id": "ONvGukm_zKiM",
        "outputId": "b5b8ef53-0c94-4df5-90ea-8334a03472e9"
      },
      "outputs": [
        {
          "name": "stdout",
          "output_type": "stream",
          "text": [
            "[[85.5 79.  84.5]\n",
            " [84.  90.  87.5]\n",
            " [90.5 81.  91.5]\n",
            " [90.5 88.5 88.5]]\n"
          ]
        }
      ],
      "source": [
        "print(scores.mean(axis=0))"
      ]
    },
    {
      "cell_type": "markdown",
      "metadata": {
        "id": "C37xcniZXEN_"
      },
      "source": [
        "`axis=1`에서는 월의 축을 따라 계산한다. `.argmax()` 메소드의 경우 모든 월 중에서 가장 높은 점수를 얻은 월의 인덱스를 찾는 데 사용된다."
      ]
    },
    {
      "cell_type": "code",
      "execution_count": 33,
      "metadata": {
        "colab": {
          "base_uri": "https://localhost:8080/"
        },
        "id": "dIcgWMbJzSHn",
        "outputId": "20a567ba-4e12-41c9-a834-57b8f9dccb88"
      },
      "outputs": [
        {
          "name": "stdout",
          "output_type": "stream",
          "text": [
            "[[2 3 2]\n",
            " [3 1 2]]\n"
          ]
        }
      ],
      "source": [
        "print(scores.argmax(axis=1))"
      ]
    },
    {
      "cell_type": "markdown",
      "metadata": {
        "id": "qmjKFjyMXvvR"
      },
      "source": [
        "가장 높은 점수를 얻은 월이 몇 월인지를 찾으려면 위에서 찾은 인덱스를 활용하면 된다. 아래 코드에서는 인덱스 자리에 배열이 들어갈 수 있다는 데 유의하자."
      ]
    },
    {
      "cell_type": "code",
      "execution_count": 34,
      "metadata": {
        "colab": {
          "base_uri": "https://localhost:8080/"
        },
        "id": "heulgfRI_E_L",
        "outputId": "942a86e9-89d4-45ed-b795-a9ec74e01e66"
      },
      "outputs": [
        {
          "data": {
            "text/plain": [
              "array([['5월', '6월', '5월'],\n",
              "       ['6월', '4월', '5월']], dtype='<U2')"
            ]
          },
          "execution_count": 34,
          "metadata": {},
          "output_type": "execute_result"
        }
      ],
      "source": [
        "np.array(['3월', '4월', '5월', '6월'])[scores.argmax(axis=1)]"
      ]
    },
    {
      "cell_type": "markdown",
      "metadata": {
        "id": "7nfVVH_GYJbw"
      },
      "source": [
        "다시 평균값으로 돌아오면 `axis=2`는 전과목의 평균을 구한다. 즉, 각 학생이 각 월에 치른 시험의 평균 점수를 얻을 수 있다."
      ]
    },
    {
      "cell_type": "code",
      "execution_count": 35,
      "metadata": {
        "colab": {
          "base_uri": "https://localhost:8080/"
        },
        "id": "-BhelLupz2Dv",
        "outputId": "c9328f60-c2f0-4638-d67e-fac2f399218e"
      },
      "outputs": [
        {
          "name": "stdout",
          "output_type": "stream",
          "text": [
            "[[81.66666667 86.         86.33333333 90.        ]\n",
            " [84.33333333 88.33333333 89.         88.33333333]]\n"
          ]
        }
      ],
      "source": [
        "print(scores.mean(axis=2))"
      ]
    },
    {
      "cell_type": "markdown",
      "metadata": {
        "id": "oYWrVySdC1NA"
      },
      "source": [
        "`axis`의 인자로 두 개 이상의 축을 선택할 수도 있다. 아래 코드에서는 월의 축(`1`)과 과목의 축(`2`)을 모두 따라서 평균값을 구하게 되어 있다. 그러면 고정된 요인은 학생만 남고, 결과적으로 각 학생이 치른 모든 시험의 평균 점수를 얻는다."
      ]
    },
    {
      "cell_type": "code",
      "execution_count": 36,
      "metadata": {
        "colab": {
          "base_uri": "https://localhost:8080/"
        },
        "id": "J3f33oaZzyYZ",
        "outputId": "2958bd23-f635-4685-c0b7-bd1aba9b189b"
      },
      "outputs": [
        {
          "name": "stdout",
          "output_type": "stream",
          "text": [
            "[86.  87.5]\n"
          ]
        }
      ],
      "source": [
        "print(scores.mean(axis=(1, 2)))"
      ]
    },
    {
      "cell_type": "markdown",
      "metadata": {
        "id": "GpKnt1kqDzD-"
      },
      "source": [
        "### 배열 변형하기\n",
        "\n",
        "이제 기존 배열을 변형하여 새로운 배열을 얻는 방법을 알아보자."
      ]
    },
    {
      "cell_type": "markdown",
      "metadata": {
        "id": "rK4_l-_YD4cW"
      },
      "source": [
        "#### `np.ndarray.transpose()` 메소드: 전치(transpose)\n",
        "\n",
        "우선 배열 내에서 값들을 나열하는 방향을 바꿀 수 있다. 기존 행렬에서 행을 열로, 열을 행으로 바꾼 것을 전치행렬이라고 하는데, 이를 일반화하여 배열에서 둘 이상의 방향축의 순서를 서로 바꾸는 변형을 통틀어 전치라고 한다.\n",
        "\n",
        "차원이 1개인 경우 방향축이 한 개이므로 전치 결과가 자기 자신과 같다.\n",
        "\n"
      ]
    },
    {
      "cell_type": "code",
      "execution_count": 37,
      "metadata": {
        "colab": {
          "base_uri": "https://localhost:8080/"
        },
        "id": "xI21ScCRhQ0q",
        "outputId": "37fd7e03-8e0b-4627-a404-d62444c85090"
      },
      "outputs": [
        {
          "name": "stdout",
          "output_type": "stream",
          "text": [
            "원래의 배열:\n",
            "[3 1 4 1 5 9]\n",
            "전치된 배열:\n",
            "[3 1 4 1 5 9]\n"
          ]
        }
      ],
      "source": [
        "x = np.array([3, 1, 4, 1, 5, 9])\n",
        "\n",
        "print('원래의 배열:')\n",
        "print(x)\n",
        "print('전치된 배열:')\n",
        "print(x.transpose())"
      ]
    },
    {
      "cell_type": "markdown",
      "metadata": {
        "id": "fXMug5BAhQ7b"
      },
      "source": [
        "차원이 2개인 경우 두 개의 방향축이 서로 바뀐다. 대각선을 기준으로 돌린 것과 같다.\n"
      ]
    },
    {
      "cell_type": "code",
      "execution_count": 38,
      "metadata": {
        "colab": {
          "base_uri": "https://localhost:8080/"
        },
        "id": "ppmCLX97hRCB",
        "outputId": "d60a3398-6049-4071-b22e-d3acc4bf7b46"
      },
      "outputs": [
        {
          "name": "stdout",
          "output_type": "stream",
          "text": [
            "원래의 배열:\n",
            "[[3 1 4]\n",
            " [1 5 9]]\n",
            "전치된 배열:\n",
            "[[3 1]\n",
            " [1 5]\n",
            " [4 9]]\n"
          ]
        }
      ],
      "source": [
        "x2 = x.reshape((2, 3))\n",
        "\n",
        "print('원래의 배열:')\n",
        "print(x2)\n",
        "print('전치된 배열:')\n",
        "print(x2.transpose())"
      ]
    },
    {
      "cell_type": "markdown",
      "metadata": {
        "id": "BZTF8xGchRkF"
      },
      "source": [
        "차원이 3개 이상인 경우 다양한 전치가 가능하다. 예를 들어 (학생, 월, 과목) 형식의 성적표에서는 월이 세로 방향(`-2`), 과목이 가로 방향(`-1`)이었는데, 아래 그림과 같이 월과 과목의 방향을 서로 바꾸어 (학생, 과목, 월)로 표시할 수 있다."
      ]
    },
    {
      "cell_type": "markdown",
      "metadata": {
        "id": "2lSfP3i_EAC5"
      },
      "source": [
        "![array-transpose.png](data:image/png;base64,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)"
      ]
    },
    {
      "cell_type": "code",
      "execution_count": 39,
      "metadata": {
        "colab": {
          "base_uri": "https://localhost:8080/"
        },
        "id": "i4EM-eL3EtnN",
        "outputId": "4d15b209-076d-4eab-b9c8-433db8551da9"
      },
      "outputs": [
        {
          "name": "stdout",
          "output_type": "stream",
          "text": [
            "원래의 배열:\n",
            "[[[80 75 90]\n",
            "  [84 81 93]\n",
            "  [89 72 98]\n",
            "  [88 85 97]]\n",
            "\n",
            " [[91 83 79]\n",
            "  [84 99 82]\n",
            "  [92 90 85]\n",
            "  [93 92 80]]]\n",
            "\n",
            "전치된 배열:\n",
            "[[[80 84 89 88]\n",
            "  [75 81 72 85]\n",
            "  [90 93 98 97]]\n",
            "\n",
            " [[91 84 92 93]\n",
            "  [83 99 90 92]\n",
            "  [79 82 85 80]]]\n"
          ]
        }
      ],
      "source": [
        "print('원래의 배열:')\n",
        "print(scores)\n",
        "print()\n",
        "print('전치된 배열:')\n",
        "print(scores.transpose((0, 2, 1))) # 0번 축은 원래대로 두고 1번 축과 2번 축의 위치를 바꾸기"
      ]
    },
    {
      "cell_type": "markdown",
      "metadata": {
        "id": "M_ld0dUDEpat"
      },
      "source": [
        "+ 연습: `scores.transpose((0, 2, 1)`와 `scores.reshape((2, 3, 4))`가 어떻게 다른지 확인해 보자."
      ]
    },
    {
      "cell_type": "code",
      "execution_count": 40,
      "metadata": {
        "colab": {
          "base_uri": "https://localhost:8080/"
        },
        "id": "xKNdeXhPErk2",
        "outputId": "bb584b43-b0fc-441f-e63e-5336f63f282d"
      },
      "outputs": [
        {
          "name": "stdout",
          "output_type": "stream",
          "text": [
            "[[[80 75 90 84]\n",
            "  [81 93 89 72]\n",
            "  [98 88 85 97]]\n",
            "\n",
            " [[91 83 79 84]\n",
            "  [99 82 92 90]\n",
            "  [85 93 92 80]]]\n"
          ]
        }
      ],
      "source": [
        "# reshape: 행의 개수와 열의 개수를 바꾸기\n",
        "# 형상은 바뀌지만 값을 나열하는 방향은 변하지 않는다.\n",
        "print(scores.reshape((2, 3, 4)))"
      ]
    },
    {
      "cell_type": "markdown",
      "metadata": {
        "id": "qaDEOJDxFdhG"
      },
      "source": [
        "#### `np.tile()` 함수: 반복\n",
        "\n",
        "다음으로 하나의 배열을 여러 번 **반복**해서 나열하는 것도 가능하다.\n",
        "\n",
        "아래와 같이 `np.tile()` 함수에 반복 횟수와 함께 넣어 주면 된다."
      ]
    },
    {
      "cell_type": "code",
      "execution_count": 41,
      "metadata": {
        "colab": {
          "base_uri": "https://localhost:8080/"
        },
        "id": "rhyNmkz_oNdN",
        "outputId": "84ecfc45-51e4-4b28-e400-813e0af3408c"
      },
      "outputs": [
        {
          "name": "stdout",
          "output_type": "stream",
          "text": [
            "[3 1 4 1 5 9 3 1 4 1 5 9]\n",
            "[3 1 4 1 5 9 3 1 4 1 5 9 3 1 4 1 5 9]\n",
            "[3 1 4 1 5 9 3 1 4 1 5 9 3 1 4 1 5 9 3 1 4 1 5 9]\n"
          ]
        }
      ],
      "source": [
        "x = np.array([3, 1, 4, 1, 5, 9])\n",
        "\n",
        "print(np.tile(x, 2)) # 2회 반볻\n",
        "print(np.tile(x, 3)) # 3회 반복\n",
        "print(np.tile(x, 4)) # 4회 반복"
      ]
    },
    {
      "cell_type": "markdown",
      "metadata": {
        "id": "FaD3Fo3qF2Yf"
      },
      "source": [
        "#### `np.concatenate()` 함수: 여러 배열을 연결하기\n",
        "\n",
        "둘 이상의 배열을 연결하는 방법은 크게 두 가지가 있다.\n",
        "\n",
        "먼저 `np.concatenate()` 함수의 경우 기존의 배열들이 공유하는 방향축을 따라 **연결**한다.\n",
        "\n",
        "연결하면 형상의 값은 변하지만 형상 튜플의 크기(=차원의 개수)는 바뀌지 않는다.\n",
        "\n",
        "예를 들어 아래와 같이 `(6, )` 형상의 벡터 2개를 연결하면 `(12, )` 형상의 벡터가 된다.\n",
        "\n"
      ]
    },
    {
      "cell_type": "code",
      "execution_count": 42,
      "metadata": {
        "colab": {
          "base_uri": "https://localhost:8080/"
        },
        "id": "1O-8b5CuF2fb",
        "outputId": "41f3bb3b-143a-406f-9ae4-5429c359e44b"
      },
      "outputs": [
        {
          "name": "stdout",
          "output_type": "stream",
          "text": [
            "[3 1 4 1 5 9 2 3 0 5 1 0]\n"
          ]
        }
      ],
      "source": [
        "x = np.array([3, 1, 4, 1, 5, 9])\n",
        "y = np.array([2, 3, 0, 5, 1, 0])\n",
        "\n",
        "print(np.concatenate([x, y]))"
      ]
    },
    {
      "cell_type": "markdown",
      "metadata": {
        "id": "-5Wk9dZbliyi"
      },
      "source": [
        "방향축이 2개인 행렬들을 연결하는 방법에는 두 가지가 있다. 아래와 같이 `(2, 3)` 형상의 행렬 두 개가 있다고 가정하자."
      ]
    },
    {
      "cell_type": "code",
      "execution_count": 43,
      "metadata": {
        "colab": {
          "base_uri": "https://localhost:8080/"
        },
        "id": "Ico5Rd4AeuR5",
        "outputId": "ed01ac3c-c3f2-4bca-867e-8963aa29892e"
      },
      "outputs": [
        {
          "name": "stdout",
          "output_type": "stream",
          "text": [
            "X =\n",
            "[[3 1 4]\n",
            " [1 5 9]]\n",
            "Y =\n",
            "[[2 3 0]\n",
            " [5 1 0]]\n"
          ]
        }
      ],
      "source": [
        "X = x.reshape(2, 3)\n",
        "Y = y.reshape(2, 3)\n",
        "\n",
        "print('X =')\n",
        "print(X)\n",
        "print('Y =')\n",
        "print(Y)"
      ]
    },
    {
      "cell_type": "markdown",
      "metadata": {
        "id": "F5-MIcYJl2MU"
      },
      "source": [
        "우선 두 행렬을 0번 방향축을 따라 연결하면 두 행렬은 열(=0번 방향축)을 공유하고 행의 개수가 늘어난다."
      ]
    },
    {
      "cell_type": "code",
      "execution_count": 44,
      "metadata": {
        "colab": {
          "base_uri": "https://localhost:8080/"
        },
        "id": "1vYqY7hFGu2l",
        "outputId": "639cca98-f867-41b2-b674-2dab05336263"
      },
      "outputs": [
        {
          "name": "stdout",
          "output_type": "stream",
          "text": [
            "[[3 1 4]\n",
            " [1 5 9]\n",
            " [2 3 0]\n",
            " [5 1 0]]\n"
          ]
        }
      ],
      "source": [
        "# 세로축(열) 방향으로(아래로) 연결하기\n",
        "print(np.concatenate([X, Y], axis=0)) # shape (4, 3)"
      ]
    },
    {
      "cell_type": "markdown",
      "metadata": {
        "id": "Y3YZ4tbhmR7-"
      },
      "source": [
        "다음으로 두 행렬을 1번 방향축을 따라 연결하면 두 행렬은 행(=1번 방향축)을 공유하고 열의 개수가 늘어난다."
      ]
    },
    {
      "cell_type": "code",
      "execution_count": 45,
      "metadata": {
        "colab": {
          "base_uri": "https://localhost:8080/"
        },
        "id": "iZJmeah-GvQN",
        "outputId": "7ab0557a-8b3b-45aa-90c0-1d53a738d065"
      },
      "outputs": [
        {
          "name": "stdout",
          "output_type": "stream",
          "text": [
            "[[3 1 4 2 3 0]\n",
            " [1 5 9 5 1 0]]\n"
          ]
        }
      ],
      "source": [
        "# 가로축(행) 방향으로(오른쪽) 연결하기\n",
        "print(np.concatenate([X, Y], axis=1)) # shape (2, 6)"
      ]
    },
    {
      "cell_type": "markdown",
      "metadata": {
        "id": "-A4eZDxwmj29"
      },
      "source": [
        "이렇게 2-D 이상의 배열을 연결하기 위해서는, 어느 방향축을 따라 연결할지를 `axis`의 인자의 값으로 정해 주어야 한다."
      ]
    },
    {
      "cell_type": "markdown",
      "metadata": {
        "id": "U2s5B8o6F2mB"
      },
      "source": [
        "#### `np.stack()` 함수: 여러 배열을 쌓아올리기\n",
        "\n",
        "`np.concatenate()` 함수와 달리 `np.stack()` 함수는 기존의 배열들을 새로운 방향축으로 **쌓아올린다**.\n",
        "\n",
        "이 경우 새로 쌓아올리는 방향이 생기므로 차원의 개수가 하나 늘어난다.\n",
        "\n",
        "예를 들어 `(6, )` 형상의 벡터 2개를 쌓으면 `(2, 6)` 형상의 행렬이 된다."
      ]
    },
    {
      "cell_type": "code",
      "execution_count": 46,
      "metadata": {
        "colab": {
          "base_uri": "https://localhost:8080/"
        },
        "id": "d1Wnp5acF2s_",
        "outputId": "babc37dc-d92e-4892-a51d-791e612d7248"
      },
      "outputs": [
        {
          "name": "stdout",
          "output_type": "stream",
          "text": [
            "[[3 1 4 1 5 9]\n",
            " [2 3 0 5 1 0]]\n"
          ]
        }
      ],
      "source": [
        "x = np.array([3, 1, 4, 1, 5, 9])\n",
        "y = np.array([2, 3, 0, 5, 1, 0])\n",
        "\n",
        "print(np.stack([x, y]))"
      ]
    },
    {
      "cell_type": "markdown",
      "metadata": {
        "id": "ixZUIMftHSkb"
      },
      "source": [
        "### broadcasting\n",
        "\n",
        "지금까지는 형상이 서로 같은 두 배열끼리의 연산을 다루었다.\n",
        "\n",
        "그런데 `numpy`에서는 형상이 다른 배열 사이의 연산도 가능하다. 이것을 broadcasting이라고 한다.\n",
        "\n",
        "예를 들어 `(6, )` 형상의 1-D 배열과 `(2, 1)` 형상의 2-D 배열이 있다고 가정하자."
      ]
    },
    {
      "cell_type": "markdown",
      "metadata": {
        "id": "uydcqlxEHbcq"
      },
      "source": [
        "####\n",
        "\n"
      ]
    },
    {
      "cell_type": "code",
      "execution_count": 47,
      "metadata": {
        "colab": {
          "base_uri": "https://localhost:8080/"
        },
        "id": "hVaPDlqG8gcx",
        "outputId": "ed2ec5eb-bca2-400a-9fd0-d847168d9c45"
      },
      "outputs": [
        {
          "name": "stdout",
          "output_type": "stream",
          "text": [
            "x\n",
            "[3 1 4 1 5 9]\n",
            "z\n",
            "[[0]\n",
            " [1]]\n"
          ]
        }
      ],
      "source": [
        "x = np.array([3, 1, 4, 1, 5, 9]).reshape(6)\n",
        "z = np.array([0, 1]).reshape((2, 1))\n",
        "print('x')\n",
        "print(x) # shape (6, )\n",
        "print('z')\n",
        "print(z) # shape (2, 1)"
      ]
    },
    {
      "cell_type": "markdown",
      "metadata": {
        "id": "9YQJG29aofW-"
      },
      "source": [
        "이 두 배열은 형상이 서로 다르지만 `numpy`에서는 broadcasting을 통해 두 배열을 서로 더하거나 곱할 수 있다."
      ]
    },
    {
      "cell_type": "code",
      "execution_count": 48,
      "metadata": {
        "colab": {
          "base_uri": "https://localhost:8080/"
        },
        "id": "-a8zqLw1HDjp",
        "outputId": "ebf2695e-19b0-480a-bd37-8b7634d3f397"
      },
      "outputs": [
        {
          "name": "stdout",
          "output_type": "stream",
          "text": [
            "x + z\n",
            "[[ 3  1  4  1  5  9]\n",
            " [ 4  2  5  2  6 10]]\n",
            "\n",
            "x * z\n",
            "[[0 0 0 0 0 0]\n",
            " [3 1 4 1 5 9]]\n",
            "\n",
            "x ** z\n",
            "[[1 1 1 1 1 1]\n",
            " [3 1 4 1 5 9]]\n"
          ]
        }
      ],
      "source": [
        "print('x + z')\n",
        "print(x + z) # shape (2, 6)\n",
        "print()\n",
        "print('x * z')\n",
        "print(x * z) # shape (2, 6)\n",
        "print()\n",
        "print('x ** z')\n",
        "print(x ** z) # shape (2, 6)"
      ]
    },
    {
      "cell_type": "markdown",
      "metadata": {
        "id": "LaByPfYJosED"
      },
      "source": [
        "`(6, )` 형상의 배열과 `(2, 1)` 형상의 배열을 연산한 결과가 `(2, 6)`이 되는 것은 아래와 같은 원리로 이해할 수 있다.\n",
        "\n",
        "```\n",
        "x   (1-D array):     6\n",
        "z   (2-D array): 2 x 1\n",
        "----------------------\n",
        "x+z (2-D array): 2 x 6\n",
        "```"
      ]
    },
    {
      "cell_type": "markdown",
      "metadata": {
        "id": "x1Kl51mBHZV8"
      },
      "source": [
        "### 기타: 주사위 던지기\n",
        "\n",
        "주사위를 10번 던지기 귀찮을 때 `np.random` 모듈의 `choice()` 함수를 활용할 수 있다."
      ]
    },
    {
      "cell_type": "code",
      "execution_count": 49,
      "metadata": {
        "colab": {
          "base_uri": "https://localhost:8080/"
        },
        "id": "KVeeHsys-JJ7",
        "outputId": "d5d03a61-e2a1-4be9-ae06-96b9766f75e2"
      },
      "outputs": [
        {
          "data": {
            "text/plain": [
              "array([5, 6, 1, 4, 4, 4, 2, 4, 6, 3])"
            ]
          },
          "execution_count": 49,
          "metadata": {},
          "output_type": "execute_result"
        }
      ],
      "source": [
        "np.random.seed(0)\n",
        "\n",
        "dice = np.arange(1, 7) # 주사위의 눈: 1부터 6까지의 정수\n",
        "np.random.choice(dice, 10) # 주사위를 10번 던지기"
      ]
    },
    {
      "cell_type": "markdown",
      "metadata": {
        "id": "vNYQvTHYrmp4"
      },
      "source": [
        "조원 중에서 누가 발표를 맡을지를 제비뽑기로 정하고 싶을 때도 활용할 수 있다."
      ]
    },
    {
      "cell_type": "code",
      "execution_count": 52,
      "metadata": {
        "colab": {
          "base_uri": "https://localhost:8080/"
        },
        "id": "MqgvH5UVrcdM",
        "outputId": "1db4b90c-ad31-442b-8c63-7a7d610b0a76"
      },
      "outputs": [
        {
          "data": {
            "text/plain": [
              "array(['뽀로로'], dtype='<U3')"
            ]
          },
          "execution_count": 52,
          "metadata": {},
          "output_type": "execute_result"
        }
      ],
      "source": [
        "np.random.seed(20240924)\n",
        "\n",
        "students = ['강은수', '조재영', '이한솔', '뽀로로']\n",
        "np.random.choice(students, 1)"
      ]
    }
  ],
  "metadata": {
    "colab": {
      "provenance": []
    },
    "kernelspec": {
      "display_name": "Python 3",
      "name": "python3"
    },
    "language_info": {
      "codemirror_mode": {
        "name": "ipython",
        "version": 3
      },
      "file_extension": ".py",
      "mimetype": "text/x-python",
      "name": "python",
      "nbconvert_exporter": "python",
      "pygments_lexer": "ipython3",
      "version": "3.12.4"
    }
  },
  "nbformat": 4,
  "nbformat_minor": 0
}
