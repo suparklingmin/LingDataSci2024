{
 "cells": [
  {
   "cell_type": "markdown",
   "metadata": {},
   "source": [
    "# 2023-2 언어데이터과학 24강 (2023-11-29) 실습 (3) Word2Vec을 사용한 연령별 단어 분포 비교"
   ]
  },
  {
   "cell_type": "markdown",
   "metadata": {},
   "source": [
    "## 코퍼스 준비"
   ]
  },
  {
   "cell_type": "code",
   "execution_count": 1,
   "metadata": {},
   "outputs": [],
   "source": [
    "import pandas as pd\n",
    "from gensim.models import Word2Vec"
   ]
  },
  {
   "cell_type": "code",
   "execution_count": 2,
   "metadata": {},
   "outputs": [],
   "source": [
    "DATA_PATH = '../data/nikl/NIKL_OM_form_age_sex.csv.tar.gz'"
   ]
  },
  {
   "cell_type": "code",
   "execution_count": 3,
   "metadata": {},
   "outputs": [
    {
     "data": {
      "text/html": [
       "<div>\n",
       "<style scoped>\n",
       "    .dataframe tbody tr th:only-of-type {\n",
       "        vertical-align: middle;\n",
       "    }\n",
       "\n",
       "    .dataframe tbody tr th {\n",
       "        vertical-align: top;\n",
       "    }\n",
       "\n",
       "    .dataframe thead th {\n",
       "        text-align: right;\n",
       "    }\n",
       "</style>\n",
       "<table border=\"1\" class=\"dataframe\">\n",
       "  <thead>\n",
       "    <tr style=\"text-align: right;\">\n",
       "      <th></th>\n",
       "      <th>form</th>\n",
       "      <th>age</th>\n",
       "      <th>sex</th>\n",
       "    </tr>\n",
       "  </thead>\n",
       "  <tbody>\n",
       "    <tr>\n",
       "      <th>0</th>\n",
       "      <td>안녕하세요</td>\n",
       "      <td>20대</td>\n",
       "      <td>여성</td>\n",
       "    </tr>\n",
       "    <tr>\n",
       "      <th>1</th>\n",
       "      <td>️</td>\n",
       "      <td>20대</td>\n",
       "      <td>여성</td>\n",
       "    </tr>\n",
       "    <tr>\n",
       "      <th>2</th>\n",
       "      <td>이거 해봐요&gt;&lt;</td>\n",
       "      <td>20대</td>\n",
       "      <td>여성</td>\n",
       "    </tr>\n",
       "    <tr>\n",
       "      <th>3</th>\n",
       "      <td>나의 직장인 멘탈 성향은  [안챙겨도 잘커요, 탕비실 선인장] 당신의 멘탈 성향은 ...</td>\n",
       "      <td>20대</td>\n",
       "      <td>여성</td>\n",
       "    </tr>\n",
       "    <tr>\n",
       "      <th>4</th>\n",
       "      <td>아앗...</td>\n",
       "      <td>20대</td>\n",
       "      <td>여성</td>\n",
       "    </tr>\n",
       "    <tr>\n",
       "      <th>...</th>\n",
       "      <td>...</td>\n",
       "      <td>...</td>\n",
       "      <td>...</td>\n",
       "    </tr>\n",
       "    <tr>\n",
       "      <th>2977835</th>\n",
       "      <td>ㅋㅋㅋㅋㅋㅋㅋㅋㅋㅋㅋ</td>\n",
       "      <td>20대</td>\n",
       "      <td>여성</td>\n",
       "    </tr>\n",
       "    <tr>\n",
       "      <th>2977836</th>\n",
       "      <td>아잌ㅋㅋㅋㅋㅋㅋㅋㅋㅋㅋ</td>\n",
       "      <td>20대</td>\n",
       "      <td>여성</td>\n",
       "    </tr>\n",
       "    <tr>\n",
       "      <th>2977837</th>\n",
       "      <td>가즈아</td>\n",
       "      <td>20대</td>\n",
       "      <td>여성</td>\n",
       "    </tr>\n",
       "    <tr>\n",
       "      <th>2977838</th>\n",
       "      <td>ㅋㅋㅋㅋㅋㅋㅋㅋㅋㅋㅋㅋㅋ가즈아!</td>\n",
       "      <td>20대</td>\n",
       "      <td>여성</td>\n",
       "    </tr>\n",
       "    <tr>\n",
       "      <th>2977839</th>\n",
       "      <td>달려달려</td>\n",
       "      <td>20대</td>\n",
       "      <td>여성</td>\n",
       "    </tr>\n",
       "  </tbody>\n",
       "</table>\n",
       "<p>2977840 rows × 3 columns</p>\n",
       "</div>"
      ],
      "text/plain": [
       "                                                      form  age sex\n",
       "0                                                    안녕하세요  20대  여성\n",
       "1                                                        ️  20대  여성\n",
       "2                                                 이거 해봐요><  20대  여성\n",
       "3        나의 직장인 멘탈 성향은  [안챙겨도 잘커요, 탕비실 선인장] 당신의 멘탈 성향은 ...  20대  여성\n",
       "4                                                    아앗...  20대  여성\n",
       "...                                                    ...  ...  ..\n",
       "2977835                                        ㅋㅋㅋㅋㅋㅋㅋㅋㅋㅋㅋ  20대  여성\n",
       "2977836                                       아잌ㅋㅋㅋㅋㅋㅋㅋㅋㅋㅋ  20대  여성\n",
       "2977837                                                가즈아  20대  여성\n",
       "2977838                                  ㅋㅋㅋㅋㅋㅋㅋㅋㅋㅋㅋㅋㅋ가즈아!  20대  여성\n",
       "2977839                                               달려달려  20대  여성\n",
       "\n",
       "[2977840 rows x 3 columns]"
      ]
     },
     "execution_count": 3,
     "metadata": {},
     "output_type": "execute_result"
    }
   ],
   "source": [
    "utterances = pd.read_csv(DATA_PATH, compression='gzip', on_bad_lines='skip')\n",
    "utterances.dropna(inplace=True)\n",
    "utterances.rename(columns={utterances.columns[0]: 'form'}, inplace=True)\n",
    "utterances"
   ]
  },
  {
   "cell_type": "markdown",
   "metadata": {},
   "source": [
    "## 코퍼스 가공"
   ]
  },
  {
   "cell_type": "code",
   "execution_count": 4,
   "metadata": {},
   "outputs": [
    {
     "name": "stdout",
     "output_type": "stream",
     "text": [
      "0                                              [안녕하세요]\n",
      "1                                                  [️]\n",
      "2                                          [이거, 해봐요><]\n",
      "3    [나의, 직장인, 멘탈, 성향은, [안챙겨도, 잘커요,, 탕비실, 선인장], 당신의...\n",
      "4                                              [아앗...]\n",
      "Name: form, dtype: object\n"
     ]
    }
   ],
   "source": [
    "utterances['form'] = utterances['form'].apply(str.split)\n",
    "print(utterances['form'][:5])"
   ]
  },
  {
   "cell_type": "markdown",
   "metadata": {},
   "source": [
    "## 코퍼스 분할"
   ]
  },
  {
   "cell_type": "markdown",
   "metadata": {},
   "source": [
    "발화를 발화자의 연령에 따라 분할하기"
   ]
  },
  {
   "cell_type": "code",
   "execution_count": 5,
   "metadata": {},
   "outputs": [
    {
     "data": {
      "text/plain": [
       "age\n",
       "20대       1593040\n",
       "30대       1024097\n",
       "40대 이상     251095\n",
       "10대        109608\n",
       "Name: count, dtype: int64"
      ]
     },
     "execution_count": 5,
     "metadata": {},
     "output_type": "execute_result"
    }
   ],
   "source": [
    "utterances['age'].value_counts()"
   ]
  },
  {
   "cell_type": "code",
   "execution_count": 6,
   "metadata": {},
   "outputs": [
    {
     "data": {
      "text/plain": [
       "10920                       [왜?]\n",
       "10922                        [왜]\n",
       "10923                    [티브시청중]\n",
       "10925                        [왜]\n",
       "10926                       [허준]\n",
       "                   ...          \n",
       "2927346    [name4언니, 벌써, 시작인가봐?]\n",
       "2927347           [문정은, 추워ㆍ시베리아]\n",
       "2927348                      [응]\n",
       "2927349          [오는동안이, 너무, 더워]\n",
       "2927350       [여러분..모두, 수고했어요!!]\n",
       "Name: form, Length: 251095, dtype: object"
      ]
     },
     "execution_count": 6,
     "metadata": {},
     "output_type": "execute_result"
    }
   ],
   "source": [
    "corpus20 = utterances[utterances['age']=='20대']['form'] # EDIT THIS LINE\n",
    "corpus30 = utterances[utterances['age']=='30대']['form'] # EDIT THIS LINE\n",
    "corpus40 = utterances[utterances['age']=='40대 이상']['form'] # EDIT THIS LINE\n",
    "corpus40"
   ]
  },
  {
   "cell_type": "markdown",
   "metadata": {},
   "source": [
    "## 코퍼스별 Word2Vec 모델 훈련"
   ]
  },
  {
   "cell_type": "code",
   "execution_count": 7,
   "metadata": {},
   "outputs": [],
   "source": [
    "d = 100 # dimension of word vectors\n",
    "L = 2 # window size\n",
    "k = 5 # negative samples per positive sample"
   ]
  },
  {
   "cell_type": "code",
   "execution_count": 8,
   "metadata": {},
   "outputs": [],
   "source": [
    "model20 = Word2Vec(sentences=corpus20, sg=1, min_count=5, vector_size=d, window=L, negative=k)\n",
    "model20.save('../models/word2vec-modu-online-age20s')\n",
    "# model20 = Word2Vec.load('../models/word2vec-modu-online-age20s')"
   ]
  },
  {
   "cell_type": "code",
   "execution_count": 9,
   "metadata": {},
   "outputs": [],
   "source": [
    "model30 = Word2Vec(sentences=corpus30, sg=1, min_count=5, vector_size=d, window=L, negative=k)\n",
    "model30.save('../models/word2vec-modu-online-age30s')\n",
    "# model30 = Word2Vec.load('../models/word2vec-modu-online-age30s')"
   ]
  },
  {
   "cell_type": "code",
   "execution_count": 10,
   "metadata": {},
   "outputs": [],
   "source": [
    "model40 = Word2Vec(sentences=corpus40, sg=1, min_count=5, vector_size=d, window=L, negative=k)\n",
    "model40.save('../models/word2vec-modu-online-age40s')\n",
    "# model40 = Word2Vec.load('../models/word2vec-modu-online-age40s')"
   ]
  },
  {
   "cell_type": "markdown",
   "metadata": {},
   "source": [
    "## '아주'와 '완전'의 연령별 분포 비교"
   ]
  },
  {
   "cell_type": "code",
   "execution_count": 11,
   "metadata": {},
   "outputs": [],
   "source": [
    "w1 = '아주'\n",
    "w2 = '완전'"
   ]
  },
  {
   "cell_type": "code",
   "execution_count": 12,
   "metadata": {},
   "outputs": [
    {
     "data": {
      "text/plain": [
       "[('굉장히', 0.7945592999458313),\n",
       " ('매우', 0.7942516803741455),\n",
       " ('시원하고', 0.7359247803688049),\n",
       " ('훨', 0.7347111105918884),\n",
       " ('넘나', 0.7331368923187256),\n",
       " ('편하고', 0.7301294207572937),\n",
       " ('너무너무', 0.7142390012741089),\n",
       " ('너뮤', 0.7124197483062744),\n",
       " ('나름', 0.7055812478065491),\n",
       " ('좋고', 0.7050605416297913)]"
      ]
     },
     "execution_count": 12,
     "metadata": {},
     "output_type": "execute_result"
    }
   ],
   "source": [
    "model20.wv.most_similar([w1])"
   ]
  },
  {
   "cell_type": "code",
   "execution_count": 13,
   "metadata": {},
   "outputs": [],
   "source": [
    "def get_most_similar_words(model, word, topn=30):\n",
    "    return [w for (w, _) in model.wv.most_similar([word], topn=topn)]"
   ]
  },
  {
   "cell_type": "code",
   "execution_count": 14,
   "metadata": {},
   "outputs": [
    {
     "name": "stdout",
     "output_type": "stream",
     "text": [
      "['굉장히', '매우', '시원하고', '훨', '넘나', '편하고', '너무너무', '너뮤', '나름', '좋고', '되게', '보기', '무척', '은근', '훨씬', '참', '여러모로', '상당히', '예쁘고', '시원해서', '귀엽고', '완전', '가격도', '워낙', '짱', '선선하니', '꽤나', '살짝', '의외로', '특유의']\n",
      "['매우', '넘나', '보기', '훨씬', '나름', '좀더', '훨', '너무너무', '생각보다', '은근', '되게', '시원하고', '편하고', '굉장히', '무척', '확실히', '겨울이', '먹기', '살짝', '참', '시원해서', '은근히', '운이', '가격도', '무지', '완전', '워낙', '몸도', '들어서', '봄']\n",
      "['몰라요', 'ㅎㅎㅎㅎ', '맞아요..', '역시', '다행이네요', '특히', '요샌', '아무래도', '좋죠', '그것도', '저희도', '멋지네요', '세상에', '둘다', '맛있어요', '그럼요', '신기하네요', '생각보다', '저만', '맛나요', '저두요', '애들이', '그런게', '그렇네요', '고생이', '모르겠어요', '은근', '오호', '헐..', '기분이']\n"
     ]
    }
   ],
   "source": [
    "# w1: '아주'\n",
    "print(get_most_similar_words(model20, w1))\n",
    "print(get_most_similar_words(model30, w1))\n",
    "print(get_most_similar_words(model40, w1))"
   ]
  },
  {
   "cell_type": "code",
   "execution_count": 15,
   "metadata": {},
   "outputs": [
    {
     "name": "stdout",
     "output_type": "stream",
     "text": [
      "['짱', '넘나', '겁나', '너무너무', '넘', '아주', '왕', '대박', '되게', '디게', '너뮤', '은근', '악', '엄청', '매우', '너무', '진쨔', '굉장히', '왤캐', 'ㅈㄴ', '연기', '으악', '생각만해도', '!!!', '겁내', '헐헐', '왤케', '!!!!', '졸라', '진짜진짜']\n",
      "['너무너무', '대박', '되게', '넘나', '겁나', '짱', '크', '최고', '굉장히', '은근', '참', '매우', '진짜', '정말', 'ㅜㅜㅜ', '생각만해도', '아주', '와우', '넘', '증말', 'ㅋㅋㅋㅋㅋ아', '무지', 'ㅠㅠㅠㅠ', '!!', '우왕', 'ㅠㅠㅠㅠㅠ', '세상', 'ㅋㅋㅋ진짜', '특히', ',,']\n",
      "['저도요', '대박', '그것도', 'ㅋㅋㅋㅋㅋ', '저런', '그쵸', '역시', 'ㅎㅎㅎ', '좋네요', '그렇죠', '헐', '웃겨', '그러게요', '아하', '그런가요', '좋네', '다들', '진짜요?', '그렇구나', '앗', '뭐야', '헉', 'ㅎㅎㅎㅎ', '웅', 'ㅋㅋㅋㅋㅋㅋ', '그건', '그러시군요', '벌써', '좋죠', '그래요?']\n"
     ]
    }
   ],
   "source": [
    "# w2: '완전'\n",
    "print(get_most_similar_words(model20, w2))\n",
    "print(get_most_similar_words(model30, w2))\n",
    "print(get_most_similar_words(model40, w2))"
   ]
  },
  {
   "cell_type": "code",
   "execution_count": 16,
   "metadata": {},
   "outputs": [
    {
     "data": {
      "text/plain": [
       "[('짱', 0.804502010345459),\n",
       " ('넘나', 0.7926981449127197),\n",
       " ('매우', 0.7735913991928101),\n",
       " ('너무너무', 0.7728712558746338),\n",
       " ('굉장히', 0.7716690301895142),\n",
       " ('되게', 0.750883936882019),\n",
       " ('겁나', 0.7481162548065186),\n",
       " ('너뮤', 0.7456628084182739),\n",
       " ('은근', 0.7372304201126099),\n",
       " ('넘', 0.7294827103614807)]"
      ]
     },
     "execution_count": 16,
     "metadata": {},
     "output_type": "execute_result"
    }
   ],
   "source": [
    "model20.wv.most_similar(positive=['아주', '완전'])"
   ]
  },
  {
   "cell_type": "code",
   "execution_count": 17,
   "metadata": {},
   "outputs": [
    {
     "data": {
      "text/plain": [
       "[('매우', 0.8865143656730652),\n",
       " ('넘나', 0.8818663358688354),\n",
       " ('너무너무', 0.8674823641777039),\n",
       " ('되게', 0.8609088659286499),\n",
       " ('은근', 0.8397954106330872),\n",
       " ('굉장히', 0.8263726830482483),\n",
       " ('참', 0.8198205828666687),\n",
       " ('겁나', 0.8191911578178406),\n",
       " ('보기', 0.8155452609062195),\n",
       " ('나름', 0.8118875622749329)]"
      ]
     },
     "execution_count": 17,
     "metadata": {},
     "output_type": "execute_result"
    }
   ],
   "source": [
    "model30.wv.most_similar(positive=['아주', '완전'])"
   ]
  },
  {
   "cell_type": "code",
   "execution_count": 18,
   "metadata": {},
   "outputs": [
    {
     "data": {
      "text/plain": [
       "[('그것도', 0.9728145003318787),\n",
       " ('역시', 0.9700822830200195),\n",
       " ('ㅎㅎㅎㅎ', 0.9677584171295166),\n",
       " ('그쵸', 0.9676728844642639),\n",
       " ('저도요', 0.9660922884941101),\n",
       " ('좋죠', 0.9605632424354553),\n",
       " ('그런가요', 0.9603557586669922),\n",
       " ('그러게요', 0.9594154357910156),\n",
       " ('뭐야', 0.9593291878700256),\n",
       " ('맞아요..', 0.9583175778388977)]"
      ]
     },
     "execution_count": 18,
     "metadata": {},
     "output_type": "execute_result"
    }
   ],
   "source": [
    "model40.wv.most_similar(positive=['아주', '완전'])"
   ]
  },
  {
   "cell_type": "code",
   "execution_count": 19,
   "metadata": {},
   "outputs": [
    {
     "name": "stdout",
     "output_type": "stream",
     "text": [
      "['넘', '엄청', '정말', '참', '진짜', '날씨가', '생각보다', '젤', '가을', '가을이', '요새', '아주', '반갑습니다^^', '완전', '겁나', '여기도', '요즘', '날씨', '요즘은', 'ㅠ', '좋아서', '점점', '그나마', '꽤', '기분이', '좋고', '그런가', '선선해지면서', '오네요', '눈이']\n"
     ]
    }
   ],
   "source": [
    "print(get_most_similar_words(model40, '너무'))"
   ]
  }
 ],
 "metadata": {
  "kernelspec": {
   "display_name": "Python 3",
   "language": "python",
   "name": "python3"
  },
  "language_info": {
   "codemirror_mode": {
    "name": "ipython",
    "version": 3
   },
   "file_extension": ".py",
   "mimetype": "text/x-python",
   "name": "python",
   "nbconvert_exporter": "python",
   "pygments_lexer": "ipython3",
   "version": "3.12.1"
  }
 },
 "nbformat": 4,
 "nbformat_minor": 2
}
