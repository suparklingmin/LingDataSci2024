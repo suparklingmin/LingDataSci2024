{
  "cells": [
    {
      "cell_type": "markdown",
      "metadata": {
        "id": "yVtxmAoT1sK8"
      },
      "source": [
        "# 2024-2 언어데이터과학 7강 (2024-09-26) 데이터프레임과 `pandas` 패키지"
      ]
    },
    {
      "cell_type": "markdown",
      "metadata": {},
      "source": [
        "\n",
        "## 데이터프레임(data frame)\n",
        "\n",
        "열 방향으로 각 변수가, 행 방향으로 각 관측치가 기록된 데이터 구조\n",
        "\n",
        "### [예시] 배열\n",
        "\n",
        "||국어|수학|\n",
        "|-|-|-|\n",
        "|3월|90|74|\n",
        "|4월|95|70|\n",
        "|5월|89|81|\n",
        "\n",
        "행 방향으로 월이라는 변수가, 열 방향으로 과목이라는 변수가 기록되어 있다.\n",
        "\n",
        "### [예시] 데이터프레임\n",
        "\n",
        "|월|과목|점수|\n",
        "|-|-|-|\n",
        "|3월|국어|90|\n",
        "|3월|수학|74|\n",
        "|4월|국어|95|\n",
        "|4월|수학|70|\n",
        "|5월|국어|89|\n",
        "|5월|수학|81|\n",
        "\n",
        "데이터프레임에서는 행 하나가 하나의 관측치를 담고 있어야 한다."
      ]
    },
    {
      "cell_type": "markdown",
      "metadata": {
        "id": "b7n29vhj3QC0"
      },
      "source": [
        "## 배열\n",
        "\n",
        " ![score-table.png](data:image/png;base64,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)"
      ]
    },
    {
      "cell_type": "code",
      "execution_count": 1,
      "metadata": {
        "id": "FNgQx1Sobi85"
      },
      "outputs": [],
      "source": [
        "import numpy as np\n",
        "scores = np.array(\n",
        "    [[[80, 75, 90],\n",
        "      [84, 81, 93],\n",
        "      [89, 72, 98],\n",
        "      [88, 85, 97]],\n",
        "\n",
        "     [[91, 83, 79],\n",
        "      [84, 99, 82],\n",
        "      [92, 90, 85],\n",
        "      [93, 92, 80]]]\n",
        ")"
      ]
    },
    {
      "cell_type": "markdown",
      "metadata": {
        "id": "HPG--FlA4N_P"
      },
      "source": [
        "### 데이터프레임 자료형을 만드는 첫 번째 방법\n",
        "\n",
        "1. 관측 한 개를 이루는 변수들의 값을 튜플로 나타낸다.\n",
        "2. 여러 관측들을 하나의 리스트로 묶는다."
      ]
    },
    {
      "cell_type": "code",
      "execution_count": 2,
      "metadata": {
        "colab": {
          "base_uri": "https://localhost:8080/"
        },
        "id": "wtZ0bpeOb75_",
        "outputId": "d2f0834a-980c-4824-97ca-ac069a6cd215"
      },
      "outputs": [],
      "source": [
        "axis0 = ['강은수', '조재영'] # 학생\n",
        "axis1 = ['3월', '4월', '5월', '6월'] # 월\n",
        "axis2 = ['국어', '영어', '수학'] # 과목\n",
        "\n",
        "exam = []\n",
        "# DO SOMETHING HERE"
      ]
    },
    {
      "cell_type": "markdown",
      "metadata": {},
      "source": [
        "```\n",
        "exam\n",
        "\n",
        "[('강은수', '3월', '국어', 80),\n",
        " ('강은수', '3월', '영어', 75),\n",
        " ('강은수', '3월', '수학', 90),\n",
        " ('강은수', '4월', '국어', 84),\n",
        " ('강은수', '4월', '영어', 81),\n",
        " ('강은수', '4월', '수학', 93),\n",
        " ('강은수', '5월', '국어', 89),\n",
        " ('강은수', '5월', '영어', 72),\n",
        " ('강은수', '5월', '수학', 98),\n",
        " ('강은수', '6월', '국어', 88),\n",
        " ('강은수', '6월', '영어', 85),\n",
        " ('강은수', '6월', '수학', 97),\n",
        " ('조재영', '3월', '국어', 91),\n",
        " ('조재영', '3월', '영어', 83),\n",
        " ('조재영', '3월', '수학', 79),\n",
        " ('조재영', '4월', '국어', 84),\n",
        " ('조재영', '4월', '영어', 99),\n",
        " ('조재영', '4월', '수학', 82),\n",
        " ('조재영', '5월', '국어', 92),\n",
        " ('조재영', '5월', '영어', 90),\n",
        " ('조재영', '5월', '수학', 85),\n",
        " ('조재영', '6월', '국어', 93),\n",
        " ('조재영', '6월', '영어', 92),\n",
        " ('조재영', '6월', '수학', 80)]\n",
        "```"
      ]
    },
    {
      "cell_type": "markdown",
      "metadata": {
        "id": "K-ERkaIL43xk"
      },
      "source": [
        "데이터프레임을 본격적으로 다루는 라이브러리로 `pandas`가 있다.\n",
        "\n",
        "`openpyxl`을 함께 설치하면 엑셀 파일도 처리할 수 있다."
      ]
    },
    {
      "cell_type": "code",
      "execution_count": 4,
      "metadata": {},
      "outputs": [
        {
          "name": "stdout",
          "output_type": "stream",
          "text": [
            "Requirement already satisfied: pandas in c:\\users\\t\\anaconda3\\lib\\site-packages (2.2.2)\n",
            "Requirement already satisfied: openpyxl in c:\\users\\t\\anaconda3\\lib\\site-packages (3.1.2)\n",
            "Requirement already satisfied: numpy>=1.26.0 in c:\\users\\t\\anaconda3\\lib\\site-packages (from pandas) (1.26.4)\n",
            "Requirement already satisfied: python-dateutil>=2.8.2 in c:\\users\\t\\anaconda3\\lib\\site-packages (from pandas) (2.9.0.post0)\n",
            "Requirement already satisfied: pytz>=2020.1 in c:\\users\\t\\anaconda3\\lib\\site-packages (from pandas) (2024.1)\n",
            "Requirement already satisfied: tzdata>=2022.7 in c:\\users\\t\\anaconda3\\lib\\site-packages (from pandas) (2023.3)\n",
            "Requirement already satisfied: et-xmlfile in c:\\users\\t\\anaconda3\\lib\\site-packages (from openpyxl) (1.1.0)\n",
            "Requirement already satisfied: six>=1.5 in c:\\users\\t\\anaconda3\\lib\\site-packages (from python-dateutil>=2.8.2->pandas) (1.16.0)\n",
            "Note: you may need to restart the kernel to use updated packages.\n"
          ]
        }
      ],
      "source": [
        "%pip install pandas openpyxl"
      ]
    },
    {
      "cell_type": "markdown",
      "metadata": {},
      "source": [
        "`pandas` 라이브러리는 일반적으로 `pd` 두 글자로 줄여서 가져온다."
      ]
    },
    {
      "cell_type": "code",
      "execution_count": 5,
      "metadata": {
        "id": "uxtw3n-wcVcb"
      },
      "outputs": [],
      "source": [
        "import pandas as pd"
      ]
    },
    {
      "cell_type": "markdown",
      "metadata": {
        "id": "egGUwrLx5TWg"
      },
      "source": [
        "데이터프레임은 `pandas` 라이브러리에서 `DataFrame` 자료형의 객체로 처리된다.\n",
        "\n",
        "구조가 같은 튜플로 이루어진 리스트를 `pd.DataFrame()`으로 형변환할 수 있다."
      ]
    },
    {
      "cell_type": "code",
      "execution_count": 6,
      "metadata": {
        "colab": {
          "base_uri": "https://localhost:8080/",
          "height": 802
        },
        "id": "83-rRdTwcxm_",
        "outputId": "068bfb2b-18a4-48a0-a0e3-8bb86d63255b"
      },
      "outputs": [
        {
          "data": {
            "text/html": [
              "<div>\n",
              "<style scoped>\n",
              "    .dataframe tbody tr th:only-of-type {\n",
              "        vertical-align: middle;\n",
              "    }\n",
              "\n",
              "    .dataframe tbody tr th {\n",
              "        vertical-align: top;\n",
              "    }\n",
              "\n",
              "    .dataframe thead th {\n",
              "        text-align: right;\n",
              "    }\n",
              "</style>\n",
              "<table border=\"1\" class=\"dataframe\">\n",
              "  <thead>\n",
              "    <tr style=\"text-align: right;\">\n",
              "      <th></th>\n",
              "      <th>학생</th>\n",
              "      <th>월</th>\n",
              "      <th>과목</th>\n",
              "      <th>점수</th>\n",
              "    </tr>\n",
              "  </thead>\n",
              "  <tbody>\n",
              "    <tr>\n",
              "      <th>0</th>\n",
              "      <td>강은수</td>\n",
              "      <td>3월</td>\n",
              "      <td>국어</td>\n",
              "      <td>80</td>\n",
              "    </tr>\n",
              "    <tr>\n",
              "      <th>1</th>\n",
              "      <td>강은수</td>\n",
              "      <td>3월</td>\n",
              "      <td>영어</td>\n",
              "      <td>75</td>\n",
              "    </tr>\n",
              "    <tr>\n",
              "      <th>2</th>\n",
              "      <td>강은수</td>\n",
              "      <td>3월</td>\n",
              "      <td>수학</td>\n",
              "      <td>90</td>\n",
              "    </tr>\n",
              "    <tr>\n",
              "      <th>3</th>\n",
              "      <td>강은수</td>\n",
              "      <td>4월</td>\n",
              "      <td>국어</td>\n",
              "      <td>84</td>\n",
              "    </tr>\n",
              "    <tr>\n",
              "      <th>4</th>\n",
              "      <td>강은수</td>\n",
              "      <td>4월</td>\n",
              "      <td>영어</td>\n",
              "      <td>81</td>\n",
              "    </tr>\n",
              "    <tr>\n",
              "      <th>5</th>\n",
              "      <td>강은수</td>\n",
              "      <td>4월</td>\n",
              "      <td>수학</td>\n",
              "      <td>93</td>\n",
              "    </tr>\n",
              "    <tr>\n",
              "      <th>6</th>\n",
              "      <td>강은수</td>\n",
              "      <td>5월</td>\n",
              "      <td>국어</td>\n",
              "      <td>89</td>\n",
              "    </tr>\n",
              "    <tr>\n",
              "      <th>7</th>\n",
              "      <td>강은수</td>\n",
              "      <td>5월</td>\n",
              "      <td>영어</td>\n",
              "      <td>72</td>\n",
              "    </tr>\n",
              "    <tr>\n",
              "      <th>8</th>\n",
              "      <td>강은수</td>\n",
              "      <td>5월</td>\n",
              "      <td>수학</td>\n",
              "      <td>98</td>\n",
              "    </tr>\n",
              "    <tr>\n",
              "      <th>9</th>\n",
              "      <td>강은수</td>\n",
              "      <td>6월</td>\n",
              "      <td>국어</td>\n",
              "      <td>88</td>\n",
              "    </tr>\n",
              "    <tr>\n",
              "      <th>10</th>\n",
              "      <td>강은수</td>\n",
              "      <td>6월</td>\n",
              "      <td>영어</td>\n",
              "      <td>85</td>\n",
              "    </tr>\n",
              "    <tr>\n",
              "      <th>11</th>\n",
              "      <td>강은수</td>\n",
              "      <td>6월</td>\n",
              "      <td>수학</td>\n",
              "      <td>97</td>\n",
              "    </tr>\n",
              "    <tr>\n",
              "      <th>12</th>\n",
              "      <td>조재영</td>\n",
              "      <td>3월</td>\n",
              "      <td>국어</td>\n",
              "      <td>91</td>\n",
              "    </tr>\n",
              "    <tr>\n",
              "      <th>13</th>\n",
              "      <td>조재영</td>\n",
              "      <td>3월</td>\n",
              "      <td>영어</td>\n",
              "      <td>83</td>\n",
              "    </tr>\n",
              "    <tr>\n",
              "      <th>14</th>\n",
              "      <td>조재영</td>\n",
              "      <td>3월</td>\n",
              "      <td>수학</td>\n",
              "      <td>79</td>\n",
              "    </tr>\n",
              "    <tr>\n",
              "      <th>15</th>\n",
              "      <td>조재영</td>\n",
              "      <td>4월</td>\n",
              "      <td>국어</td>\n",
              "      <td>84</td>\n",
              "    </tr>\n",
              "    <tr>\n",
              "      <th>16</th>\n",
              "      <td>조재영</td>\n",
              "      <td>4월</td>\n",
              "      <td>영어</td>\n",
              "      <td>99</td>\n",
              "    </tr>\n",
              "    <tr>\n",
              "      <th>17</th>\n",
              "      <td>조재영</td>\n",
              "      <td>4월</td>\n",
              "      <td>수학</td>\n",
              "      <td>82</td>\n",
              "    </tr>\n",
              "    <tr>\n",
              "      <th>18</th>\n",
              "      <td>조재영</td>\n",
              "      <td>5월</td>\n",
              "      <td>국어</td>\n",
              "      <td>92</td>\n",
              "    </tr>\n",
              "    <tr>\n",
              "      <th>19</th>\n",
              "      <td>조재영</td>\n",
              "      <td>5월</td>\n",
              "      <td>영어</td>\n",
              "      <td>90</td>\n",
              "    </tr>\n",
              "    <tr>\n",
              "      <th>20</th>\n",
              "      <td>조재영</td>\n",
              "      <td>5월</td>\n",
              "      <td>수학</td>\n",
              "      <td>85</td>\n",
              "    </tr>\n",
              "    <tr>\n",
              "      <th>21</th>\n",
              "      <td>조재영</td>\n",
              "      <td>6월</td>\n",
              "      <td>국어</td>\n",
              "      <td>93</td>\n",
              "    </tr>\n",
              "    <tr>\n",
              "      <th>22</th>\n",
              "      <td>조재영</td>\n",
              "      <td>6월</td>\n",
              "      <td>영어</td>\n",
              "      <td>92</td>\n",
              "    </tr>\n",
              "    <tr>\n",
              "      <th>23</th>\n",
              "      <td>조재영</td>\n",
              "      <td>6월</td>\n",
              "      <td>수학</td>\n",
              "      <td>80</td>\n",
              "    </tr>\n",
              "  </tbody>\n",
              "</table>\n",
              "</div>"
            ],
            "text/plain": [
              "     학생   월  과목  점수\n",
              "0   강은수  3월  국어  80\n",
              "1   강은수  3월  영어  75\n",
              "2   강은수  3월  수학  90\n",
              "3   강은수  4월  국어  84\n",
              "4   강은수  4월  영어  81\n",
              "5   강은수  4월  수학  93\n",
              "6   강은수  5월  국어  89\n",
              "7   강은수  5월  영어  72\n",
              "8   강은수  5월  수학  98\n",
              "9   강은수  6월  국어  88\n",
              "10  강은수  6월  영어  85\n",
              "11  강은수  6월  수학  97\n",
              "12  조재영  3월  국어  91\n",
              "13  조재영  3월  영어  83\n",
              "14  조재영  3월  수학  79\n",
              "15  조재영  4월  국어  84\n",
              "16  조재영  4월  영어  99\n",
              "17  조재영  4월  수학  82\n",
              "18  조재영  5월  국어  92\n",
              "19  조재영  5월  영어  90\n",
              "20  조재영  5월  수학  85\n",
              "21  조재영  6월  국어  93\n",
              "22  조재영  6월  영어  92\n",
              "23  조재영  6월  수학  80"
            ]
          },
          "execution_count": 6,
          "metadata": {},
          "output_type": "execute_result"
        }
      ],
      "source": [
        "df_exam = pd.DataFrame(exam, columns=['학생', '월', '과목', '점수'])\n",
        "df_exam"
      ]
    },
    {
      "cell_type": "markdown",
      "metadata": {},
      "source": [
        "데이터프레임에서 특정 변수의 값을 살펴보기 위해서는 변수명을 대괄호 안에 넣어 준다."
      ]
    },
    {
      "cell_type": "code",
      "execution_count": 7,
      "metadata": {
        "colab": {
          "base_uri": "https://localhost:8080/"
        },
        "id": "VZ8tjboH2YmZ",
        "outputId": "c519fea0-e8fb-4819-a8dd-de7154154934"
      },
      "outputs": [
        {
          "data": {
            "text/plain": [
              "0     강은수\n",
              "1     강은수\n",
              "2     강은수\n",
              "3     강은수\n",
              "4     강은수\n",
              "5     강은수\n",
              "6     강은수\n",
              "7     강은수\n",
              "8     강은수\n",
              "9     강은수\n",
              "10    강은수\n",
              "11    강은수\n",
              "12    조재영\n",
              "13    조재영\n",
              "14    조재영\n",
              "15    조재영\n",
              "16    조재영\n",
              "17    조재영\n",
              "18    조재영\n",
              "19    조재영\n",
              "20    조재영\n",
              "21    조재영\n",
              "22    조재영\n",
              "23    조재영\n",
              "Name: 학생, dtype: object"
            ]
          },
          "execution_count": 7,
          "metadata": {},
          "output_type": "execute_result"
        }
      ],
      "source": [
        "df_exam['학생'] # '학생'이라는 변수의 모든 값"
      ]
    },
    {
      "cell_type": "code",
      "execution_count": 8,
      "metadata": {
        "colab": {
          "base_uri": "https://localhost:8080/",
          "height": 802
        },
        "id": "TkxD0oqO2l0m",
        "outputId": "43676017-1e91-4524-a16a-27a6869cdb15"
      },
      "outputs": [
        {
          "data": {
            "text/html": [
              "<div>\n",
              "<style scoped>\n",
              "    .dataframe tbody tr th:only-of-type {\n",
              "        vertical-align: middle;\n",
              "    }\n",
              "\n",
              "    .dataframe tbody tr th {\n",
              "        vertical-align: top;\n",
              "    }\n",
              "\n",
              "    .dataframe thead th {\n",
              "        text-align: right;\n",
              "    }\n",
              "</style>\n",
              "<table border=\"1\" class=\"dataframe\">\n",
              "  <thead>\n",
              "    <tr style=\"text-align: right;\">\n",
              "      <th></th>\n",
              "      <th>학생</th>\n",
              "      <th>점수</th>\n",
              "    </tr>\n",
              "  </thead>\n",
              "  <tbody>\n",
              "    <tr>\n",
              "      <th>0</th>\n",
              "      <td>강은수</td>\n",
              "      <td>80</td>\n",
              "    </tr>\n",
              "    <tr>\n",
              "      <th>1</th>\n",
              "      <td>강은수</td>\n",
              "      <td>75</td>\n",
              "    </tr>\n",
              "    <tr>\n",
              "      <th>2</th>\n",
              "      <td>강은수</td>\n",
              "      <td>90</td>\n",
              "    </tr>\n",
              "    <tr>\n",
              "      <th>3</th>\n",
              "      <td>강은수</td>\n",
              "      <td>84</td>\n",
              "    </tr>\n",
              "    <tr>\n",
              "      <th>4</th>\n",
              "      <td>강은수</td>\n",
              "      <td>81</td>\n",
              "    </tr>\n",
              "    <tr>\n",
              "      <th>5</th>\n",
              "      <td>강은수</td>\n",
              "      <td>93</td>\n",
              "    </tr>\n",
              "    <tr>\n",
              "      <th>6</th>\n",
              "      <td>강은수</td>\n",
              "      <td>89</td>\n",
              "    </tr>\n",
              "    <tr>\n",
              "      <th>7</th>\n",
              "      <td>강은수</td>\n",
              "      <td>72</td>\n",
              "    </tr>\n",
              "    <tr>\n",
              "      <th>8</th>\n",
              "      <td>강은수</td>\n",
              "      <td>98</td>\n",
              "    </tr>\n",
              "    <tr>\n",
              "      <th>9</th>\n",
              "      <td>강은수</td>\n",
              "      <td>88</td>\n",
              "    </tr>\n",
              "    <tr>\n",
              "      <th>10</th>\n",
              "      <td>강은수</td>\n",
              "      <td>85</td>\n",
              "    </tr>\n",
              "    <tr>\n",
              "      <th>11</th>\n",
              "      <td>강은수</td>\n",
              "      <td>97</td>\n",
              "    </tr>\n",
              "    <tr>\n",
              "      <th>12</th>\n",
              "      <td>조재영</td>\n",
              "      <td>91</td>\n",
              "    </tr>\n",
              "    <tr>\n",
              "      <th>13</th>\n",
              "      <td>조재영</td>\n",
              "      <td>83</td>\n",
              "    </tr>\n",
              "    <tr>\n",
              "      <th>14</th>\n",
              "      <td>조재영</td>\n",
              "      <td>79</td>\n",
              "    </tr>\n",
              "    <tr>\n",
              "      <th>15</th>\n",
              "      <td>조재영</td>\n",
              "      <td>84</td>\n",
              "    </tr>\n",
              "    <tr>\n",
              "      <th>16</th>\n",
              "      <td>조재영</td>\n",
              "      <td>99</td>\n",
              "    </tr>\n",
              "    <tr>\n",
              "      <th>17</th>\n",
              "      <td>조재영</td>\n",
              "      <td>82</td>\n",
              "    </tr>\n",
              "    <tr>\n",
              "      <th>18</th>\n",
              "      <td>조재영</td>\n",
              "      <td>92</td>\n",
              "    </tr>\n",
              "    <tr>\n",
              "      <th>19</th>\n",
              "      <td>조재영</td>\n",
              "      <td>90</td>\n",
              "    </tr>\n",
              "    <tr>\n",
              "      <th>20</th>\n",
              "      <td>조재영</td>\n",
              "      <td>85</td>\n",
              "    </tr>\n",
              "    <tr>\n",
              "      <th>21</th>\n",
              "      <td>조재영</td>\n",
              "      <td>93</td>\n",
              "    </tr>\n",
              "    <tr>\n",
              "      <th>22</th>\n",
              "      <td>조재영</td>\n",
              "      <td>92</td>\n",
              "    </tr>\n",
              "    <tr>\n",
              "      <th>23</th>\n",
              "      <td>조재영</td>\n",
              "      <td>80</td>\n",
              "    </tr>\n",
              "  </tbody>\n",
              "</table>\n",
              "</div>"
            ],
            "text/plain": [
              "     학생  점수\n",
              "0   강은수  80\n",
              "1   강은수  75\n",
              "2   강은수  90\n",
              "3   강은수  84\n",
              "4   강은수  81\n",
              "5   강은수  93\n",
              "6   강은수  89\n",
              "7   강은수  72\n",
              "8   강은수  98\n",
              "9   강은수  88\n",
              "10  강은수  85\n",
              "11  강은수  97\n",
              "12  조재영  91\n",
              "13  조재영  83\n",
              "14  조재영  79\n",
              "15  조재영  84\n",
              "16  조재영  99\n",
              "17  조재영  82\n",
              "18  조재영  92\n",
              "19  조재영  90\n",
              "20  조재영  85\n",
              "21  조재영  93\n",
              "22  조재영  92\n",
              "23  조재영  80"
            ]
          },
          "execution_count": 8,
          "metadata": {},
          "output_type": "execute_result"
        }
      ],
      "source": [
        "df_exam[['학생', '점수']] # 두 개 이상의 변수"
      ]
    },
    {
      "cell_type": "markdown",
      "metadata": {},
      "source": [
        "하나의 열(`pd.Series` 자료형)은 `np.ndarray` 배열처럼 연산할 수 있다."
      ]
    },
    {
      "cell_type": "code",
      "execution_count": 9,
      "metadata": {
        "colab": {
          "base_uri": "https://localhost:8080/"
        },
        "id": "Ro52jQL02zhc",
        "outputId": "64e3db2d-3e5c-4cfc-ef15-ec7bf1fc4b6e"
      },
      "outputs": [
        {
          "data": {
            "text/plain": [
              "0     False\n",
              "1     False\n",
              "2      True\n",
              "3     False\n",
              "4     False\n",
              "5      True\n",
              "6      True\n",
              "7     False\n",
              "8      True\n",
              "9      True\n",
              "10    False\n",
              "11     True\n",
              "12     True\n",
              "13    False\n",
              "14    False\n",
              "15    False\n",
              "16     True\n",
              "17    False\n",
              "18     True\n",
              "19     True\n",
              "20    False\n",
              "21     True\n",
              "22     True\n",
              "23    False\n",
              "Name: 점수, dtype: bool"
            ]
          },
          "execution_count": 9,
          "metadata": {},
          "output_type": "execute_result"
        }
      ],
      "source": [
        "df_exam['점수'] > 85"
      ]
    },
    {
      "cell_type": "markdown",
      "metadata": {},
      "source": [
        "방금 만든 것과 같은 불 값들의 열을 사용하여, 특정 조건을 만족하는 행만 출력할 수 있다.\n",
        "\n",
        "예를 들어 아래 코드에서는 영어 과목의 점수가 85점을 넘는 관측만 골라서 볼 수 있다."
      ]
    },
    {
      "cell_type": "code",
      "execution_count": 10,
      "metadata": {
        "colab": {
          "base_uri": "https://localhost:8080/",
          "height": 143
        },
        "id": "PsAfxgAw3ECT",
        "outputId": "9f892e76-0907-428b-b780-8109781d3aba"
      },
      "outputs": [
        {
          "data": {
            "text/html": [
              "<div>\n",
              "<style scoped>\n",
              "    .dataframe tbody tr th:only-of-type {\n",
              "        vertical-align: middle;\n",
              "    }\n",
              "\n",
              "    .dataframe tbody tr th {\n",
              "        vertical-align: top;\n",
              "    }\n",
              "\n",
              "    .dataframe thead th {\n",
              "        text-align: right;\n",
              "    }\n",
              "</style>\n",
              "<table border=\"1\" class=\"dataframe\">\n",
              "  <thead>\n",
              "    <tr style=\"text-align: right;\">\n",
              "      <th></th>\n",
              "      <th>학생</th>\n",
              "      <th>월</th>\n",
              "      <th>과목</th>\n",
              "      <th>점수</th>\n",
              "    </tr>\n",
              "  </thead>\n",
              "  <tbody>\n",
              "    <tr>\n",
              "      <th>16</th>\n",
              "      <td>조재영</td>\n",
              "      <td>4월</td>\n",
              "      <td>영어</td>\n",
              "      <td>99</td>\n",
              "    </tr>\n",
              "    <tr>\n",
              "      <th>19</th>\n",
              "      <td>조재영</td>\n",
              "      <td>5월</td>\n",
              "      <td>영어</td>\n",
              "      <td>90</td>\n",
              "    </tr>\n",
              "    <tr>\n",
              "      <th>22</th>\n",
              "      <td>조재영</td>\n",
              "      <td>6월</td>\n",
              "      <td>영어</td>\n",
              "      <td>92</td>\n",
              "    </tr>\n",
              "  </tbody>\n",
              "</table>\n",
              "</div>"
            ],
            "text/plain": [
              "     학생   월  과목  점수\n",
              "16  조재영  4월  영어  99\n",
              "19  조재영  5월  영어  90\n",
              "22  조재영  6월  영어  92"
            ]
          },
          "execution_count": 10,
          "metadata": {},
          "output_type": "execute_result"
        }
      ],
      "source": [
        "df_exam[(df_exam['과목'] == '영어') & (df_exam['점수'] > 85)] # Excel의 filter 기능과 유사."
      ]
    },
    {
      "cell_type": "markdown",
      "metadata": {},
      "source": [
        "점수 변수에 해당하는 값들의 평균값을 얻기 위해서는 `mean()` 메소드를 사용한다."
      ]
    },
    {
      "cell_type": "code",
      "execution_count": 11,
      "metadata": {
        "colab": {
          "base_uri": "https://localhost:8080/"
        },
        "id": "V7a2VTea3mfn",
        "outputId": "5e883347-baac-4b4c-89ab-c228d3f2d770"
      },
      "outputs": [
        {
          "data": {
            "text/plain": [
              "86.75"
            ]
          },
          "execution_count": 11,
          "metadata": {},
          "output_type": "execute_result"
        }
      ],
      "source": [
        "df_exam['점수'].mean() # 평균"
      ]
    },
    {
      "cell_type": "markdown",
      "metadata": {},
      "source": [
        "> `df.groupby(['A'])('B').mean()`\n",
        "\n",
        "변수 A가 범주형 데이터로 이루어져 있고 변수 B가 수치형 데이터로 이루어져 있다고 가정하자.\n",
        "\n",
        "그러면 A의 값이 같은 것끼리 그룹을 짓고, 각 그룹에서 변수 B의 평균을 계산할 수 있다.\n",
        "\n",
        "예를 들어 아래 코드에서는 학생별 점수 평균을 구할 수 있다."
      ]
    },
    {
      "cell_type": "code",
      "execution_count": 12,
      "metadata": {
        "colab": {
          "base_uri": "https://localhost:8080/"
        },
        "id": "PMgjSmc9319G",
        "outputId": "1843bb2e-7fbf-4141-dc70-24a17cc856f3"
      },
      "outputs": [
        {
          "data": {
            "text/plain": [
              "학생\n",
              "강은수    86.0\n",
              "조재영    87.5\n",
              "Name: 점수, dtype: float64"
            ]
          },
          "execution_count": 12,
          "metadata": {},
          "output_type": "execute_result"
        }
      ],
      "source": [
        "# 학생별 평균\n",
        "df_exam.groupby(['학생'])['점수'].mean()"
      ]
    },
    {
      "cell_type": "markdown",
      "metadata": {},
      "source": [
        "두 개 이상의 범주형 변수로 그룹화하는 것도 가능하다."
      ]
    },
    {
      "cell_type": "code",
      "execution_count": 13,
      "metadata": {
        "colab": {
          "base_uri": "https://localhost:8080/"
        },
        "id": "OsuLYd7z4Qeo",
        "outputId": "656f786f-d43a-472c-81c8-97d3dcafcb50"
      },
      "outputs": [
        {
          "data": {
            "text/plain": [
              "학생   월 \n",
              "강은수  3월    81.666667\n",
              "     4월    86.000000\n",
              "     5월    86.333333\n",
              "     6월    90.000000\n",
              "조재영  3월    84.333333\n",
              "     4월    88.333333\n",
              "     5월    89.000000\n",
              "     6월    88.333333\n",
              "Name: 점수, dtype: float64"
            ]
          },
          "execution_count": 13,
          "metadata": {},
          "output_type": "execute_result"
        }
      ],
      "source": [
        "df_exam.groupby(['학생', '월'])['점수'].mean()\n",
        "# mean 대신 max, min, sum, ...을 쓸 수 있다."
      ]
    },
    {
      "cell_type": "markdown",
      "metadata": {},
      "source": [
        "### 데이터프레임 자료형을 만드는 두 번째 방법\n",
        "\n",
        "1. 관측 한 개를 이루는 변수들의 이름과 값을 **딕셔너리로** 나타낸다.\n",
        "2. 여러 관측들을 하나의 리스트로 묶는다."
      ]
    },
    {
      "cell_type": "code",
      "execution_count": 14,
      "metadata": {
        "colab": {
          "base_uri": "https://localhost:8080/",
          "height": 143
        },
        "id": "JT6foBJY5FkW",
        "outputId": "21b5e5d1-1a08-4352-e080-60b9422b546f"
      },
      "outputs": [
        {
          "data": {
            "text/html": [
              "<div>\n",
              "<style scoped>\n",
              "    .dataframe tbody tr th:only-of-type {\n",
              "        vertical-align: middle;\n",
              "    }\n",
              "\n",
              "    .dataframe tbody tr th {\n",
              "        vertical-align: top;\n",
              "    }\n",
              "\n",
              "    .dataframe thead th {\n",
              "        text-align: right;\n",
              "    }\n",
              "</style>\n",
              "<table border=\"1\" class=\"dataframe\">\n",
              "  <thead>\n",
              "    <tr style=\"text-align: right;\">\n",
              "      <th></th>\n",
              "      <th>이름</th>\n",
              "      <th>학과</th>\n",
              "      <th>전화번호</th>\n",
              "    </tr>\n",
              "  </thead>\n",
              "  <tbody>\n",
              "    <tr>\n",
              "      <th>0</th>\n",
              "      <td>강은수</td>\n",
              "      <td>국어국문학과</td>\n",
              "      <td>010-1234-5678</td>\n",
              "    </tr>\n",
              "    <tr>\n",
              "      <th>1</th>\n",
              "      <td>이한솔</td>\n",
              "      <td>경제학부</td>\n",
              "      <td>010-2345-6789</td>\n",
              "    </tr>\n",
              "    <tr>\n",
              "      <th>2</th>\n",
              "      <td>조재영</td>\n",
              "      <td>수리과학부</td>\n",
              "      <td>010-3456-7890</td>\n",
              "    </tr>\n",
              "  </tbody>\n",
              "</table>\n",
              "</div>"
            ],
            "text/plain": [
              "    이름      학과           전화번호\n",
              "0  강은수  국어국문학과  010-1234-5678\n",
              "1  이한솔    경제학부  010-2345-6789\n",
              "2  조재영   수리과학부  010-3456-7890"
            ]
          },
          "execution_count": 14,
          "metadata": {},
          "output_type": "execute_result"
        }
      ],
      "source": [
        "students = [\n",
        "    {'이름': '강은수', '학과': '국어국문학과', '전화번호': '010-1234-5678'},\n",
        "    {'이름': '이한솔', '학과': '경제학부', '전화번호': '010-2345-6789'},\n",
        "    {'이름': '조재영', '학과': '수리과학부', '전화번호': '010-3456-7890'},\n",
        "]\n",
        "\n",
        "df_students = pd.DataFrame(students)\n",
        "df_students"
      ]
    },
    {
      "cell_type": "markdown",
      "metadata": {},
      "source": [
        "자료가 문자열로 이루어진 경우, `str` 속성을 통해 정규표현식을 활용할 수 있다."
      ]
    },
    {
      "cell_type": "code",
      "execution_count": 15,
      "metadata": {
        "colab": {
          "base_uri": "https://localhost:8080/",
          "height": 143
        },
        "id": "JHhAWi_86DxM",
        "outputId": "e8438ca5-886a-4d08-d617-32376b1e6a4d"
      },
      "outputs": [
        {
          "data": {
            "text/html": [
              "<div>\n",
              "<style scoped>\n",
              "    .dataframe tbody tr th:only-of-type {\n",
              "        vertical-align: middle;\n",
              "    }\n",
              "\n",
              "    .dataframe tbody tr th {\n",
              "        vertical-align: top;\n",
              "    }\n",
              "\n",
              "    .dataframe thead th {\n",
              "        text-align: right;\n",
              "    }\n",
              "</style>\n",
              "<table border=\"1\" class=\"dataframe\">\n",
              "  <thead>\n",
              "    <tr style=\"text-align: right;\">\n",
              "      <th></th>\n",
              "      <th>이름</th>\n",
              "      <th>학과</th>\n",
              "      <th>전화번호</th>\n",
              "      <th>전화번호_마스킹</th>\n",
              "    </tr>\n",
              "  </thead>\n",
              "  <tbody>\n",
              "    <tr>\n",
              "      <th>0</th>\n",
              "      <td>강은수</td>\n",
              "      <td>국어국문학과</td>\n",
              "      <td>010-1234-5678</td>\n",
              "      <td>010-XXXX-5678</td>\n",
              "    </tr>\n",
              "    <tr>\n",
              "      <th>1</th>\n",
              "      <td>이한솔</td>\n",
              "      <td>경제학부</td>\n",
              "      <td>010-2345-6789</td>\n",
              "      <td>010-XXXX-6789</td>\n",
              "    </tr>\n",
              "    <tr>\n",
              "      <th>2</th>\n",
              "      <td>조재영</td>\n",
              "      <td>수리과학부</td>\n",
              "      <td>010-3456-7890</td>\n",
              "      <td>010-XXXX-7890</td>\n",
              "    </tr>\n",
              "  </tbody>\n",
              "</table>\n",
              "</div>"
            ],
            "text/plain": [
              "    이름      학과           전화번호       전화번호_마스킹\n",
              "0  강은수  국어국문학과  010-1234-5678  010-XXXX-5678\n",
              "1  이한솔    경제학부  010-2345-6789  010-XXXX-6789\n",
              "2  조재영   수리과학부  010-3456-7890  010-XXXX-7890"
            ]
          },
          "execution_count": 15,
          "metadata": {},
          "output_type": "execute_result"
        }
      ],
      "source": [
        "df_students['전화번호_마스킹'] = df_students['전화번호'] # EDIT THIS LINE\n",
        "df_students"
      ]
    },
    {
      "cell_type": "code",
      "execution_count": 16,
      "metadata": {
        "colab": {
          "base_uri": "https://localhost:8080/",
          "height": 175
        },
        "id": "BIgGR6Km7Jff",
        "outputId": "4832eedb-c36d-4373-c019-7c7f336dce12"
      },
      "outputs": [
        {
          "data": {
            "text/html": [
              "<div>\n",
              "<style scoped>\n",
              "    .dataframe tbody tr th:only-of-type {\n",
              "        vertical-align: middle;\n",
              "    }\n",
              "\n",
              "    .dataframe tbody tr th {\n",
              "        vertical-align: top;\n",
              "    }\n",
              "\n",
              "    .dataframe thead th {\n",
              "        text-align: right;\n",
              "    }\n",
              "</style>\n",
              "<table border=\"1\" class=\"dataframe\">\n",
              "  <thead>\n",
              "    <tr style=\"text-align: right;\">\n",
              "      <th></th>\n",
              "      <th>학과</th>\n",
              "      <th>전화번호</th>\n",
              "      <th>전화번호_마스킹</th>\n",
              "    </tr>\n",
              "    <tr>\n",
              "      <th>이름</th>\n",
              "      <th></th>\n",
              "      <th></th>\n",
              "      <th></th>\n",
              "    </tr>\n",
              "  </thead>\n",
              "  <tbody>\n",
              "    <tr>\n",
              "      <th>강은수</th>\n",
              "      <td>국어국문학과</td>\n",
              "      <td>010-1234-5678</td>\n",
              "      <td>010-XXXX-5678</td>\n",
              "    </tr>\n",
              "    <tr>\n",
              "      <th>이한솔</th>\n",
              "      <td>경제학부</td>\n",
              "      <td>010-2345-6789</td>\n",
              "      <td>010-XXXX-6789</td>\n",
              "    </tr>\n",
              "    <tr>\n",
              "      <th>조재영</th>\n",
              "      <td>수리과학부</td>\n",
              "      <td>010-3456-7890</td>\n",
              "      <td>010-XXXX-7890</td>\n",
              "    </tr>\n",
              "  </tbody>\n",
              "</table>\n",
              "</div>"
            ],
            "text/plain": [
              "         학과           전화번호       전화번호_마스킹\n",
              "이름                                       \n",
              "강은수  국어국문학과  010-1234-5678  010-XXXX-5678\n",
              "이한솔    경제학부  010-2345-6789  010-XXXX-6789\n",
              "조재영   수리과학부  010-3456-7890  010-XXXX-7890"
            ]
          },
          "execution_count": 16,
          "metadata": {},
          "output_type": "execute_result"
        }
      ],
      "source": [
        "# 학생의 이름을 인덱스의 이름으로 사용하기\n",
        "df_students.set_index('이름', inplace=True)\n",
        "df_students"
      ]
    },
    {
      "cell_type": "code",
      "execution_count": 17,
      "metadata": {
        "colab": {
          "base_uri": "https://localhost:8080/"
        },
        "id": "VeGomAke7la9",
        "outputId": "b5f13d7c-6ffc-444f-cd82-33ef3a6dedfd"
      },
      "outputs": [
        {
          "data": {
            "text/plain": [
              "학과                  수리과학부\n",
              "전화번호        010-3456-7890\n",
              "전화번호_마스킹    010-XXXX-7890\n",
              "Name: 조재영, dtype: object"
            ]
          },
          "execution_count": 17,
          "metadata": {},
          "output_type": "execute_result"
        }
      ],
      "source": [
        "df_students.loc['조재영']"
      ]
    },
    {
      "cell_type": "markdown",
      "metadata": {},
      "source": [
        "### 데이터프레임 자료형을 만드는 세 번째 방법\n",
        "\n",
        "1. 변수명을 키로, 값들의 리스트를 값으로 가지는 딕셔너리를 만든다."
      ]
    },
    {
      "cell_type": "code",
      "execution_count": 18,
      "metadata": {
        "colab": {
          "base_uri": "https://localhost:8080/",
          "height": 206
        },
        "id": "MJYcaHz075oH",
        "outputId": "87ef6888-9a2e-4099-ffd8-a3db62e22a82"
      },
      "outputs": [
        {
          "data": {
            "text/html": [
              "<div>\n",
              "<style scoped>\n",
              "    .dataframe tbody tr th:only-of-type {\n",
              "        vertical-align: middle;\n",
              "    }\n",
              "\n",
              "    .dataframe tbody tr th {\n",
              "        vertical-align: top;\n",
              "    }\n",
              "\n",
              "    .dataframe thead th {\n",
              "        text-align: right;\n",
              "    }\n",
              "</style>\n",
              "<table border=\"1\" class=\"dataframe\">\n",
              "  <thead>\n",
              "    <tr style=\"text-align: right;\">\n",
              "      <th></th>\n",
              "      <th>a</th>\n",
              "      <th>b</th>\n",
              "      <th>c</th>\n",
              "    </tr>\n",
              "  </thead>\n",
              "  <tbody>\n",
              "    <tr>\n",
              "      <th>0</th>\n",
              "      <td>1</td>\n",
              "      <td>1</td>\n",
              "      <td>A</td>\n",
              "    </tr>\n",
              "    <tr>\n",
              "      <th>1</th>\n",
              "      <td>2</td>\n",
              "      <td>3</td>\n",
              "      <td>B</td>\n",
              "    </tr>\n",
              "    <tr>\n",
              "      <th>2</th>\n",
              "      <td>3</td>\n",
              "      <td>5</td>\n",
              "      <td>C</td>\n",
              "    </tr>\n",
              "    <tr>\n",
              "      <th>3</th>\n",
              "      <td>4</td>\n",
              "      <td>7</td>\n",
              "      <td>D</td>\n",
              "    </tr>\n",
              "    <tr>\n",
              "      <th>4</th>\n",
              "      <td>5</td>\n",
              "      <td>9</td>\n",
              "      <td>E</td>\n",
              "    </tr>\n",
              "  </tbody>\n",
              "</table>\n",
              "</div>"
            ],
            "text/plain": [
              "   a  b  c\n",
              "0  1  1  A\n",
              "1  2  3  B\n",
              "2  3  5  C\n",
              "3  4  7  D\n",
              "4  5  9  E"
            ]
          },
          "execution_count": 18,
          "metadata": {},
          "output_type": "execute_result"
        }
      ],
      "source": [
        "example = {\n",
        "    'a': [1, 2, 3, 4, 5],\n",
        "    'b': [1, 3, 5, 7, 9],\n",
        "    'c': list('ABCDE')\n",
        "}\n",
        "pd.DataFrame(example)"
      ]
    }
  ],
  "metadata": {
    "colab": {
      "provenance": []
    },
    "kernelspec": {
      "display_name": "Python 3",
      "name": "python3"
    },
    "language_info": {
      "codemirror_mode": {
        "name": "ipython",
        "version": 3
      },
      "file_extension": ".py",
      "mimetype": "text/x-python",
      "name": "python",
      "nbconvert_exporter": "python",
      "pygments_lexer": "ipython3",
      "version": "3.12.4"
    }
  },
  "nbformat": 4,
  "nbformat_minor": 0
}
