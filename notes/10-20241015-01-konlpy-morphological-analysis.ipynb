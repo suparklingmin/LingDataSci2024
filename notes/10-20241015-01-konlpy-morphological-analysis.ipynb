{
  "cells": [
    {
      "cell_type": "markdown",
      "metadata": {
        "id": "7L4OezkA8TWu"
      },
      "source": [
        "# 2024-2 언어데이터과학 10강 (2024-10-15) `konlpy` 패키지와 한국어 형태소 분석"
      ]
    },
    {
      "cell_type": "markdown",
      "metadata": {},
      "source": [
        "## 오늘의 목표\n",
        "\n",
        "1. 형태소의 개념을 설명할 수 있다.\n",
        "2. 파이썬에서 한국어 문장을 형태소로 분석할 수 있다."
      ]
    },
    {
      "cell_type": "markdown",
      "metadata": {
        "id": "EPdkeh1h8I26"
      },
      "source": [
        "## 형태소(morpheme)\n",
        "\n",
        "의미를 가진 최소 단위.\n",
        "\n",
        "> \"나는 집에 가고 싶다.\"\n",
        "> + 단어: 나는, 집에, 가고, 싶다.\n",
        "> + 형태소: 나, 는, 집, 에, 가, 고, 싶, 다.\n",
        "\n",
        "> \"I want to go home.\"\n",
        "> + 단어: I, want, to, go, home.\n",
        "> + 형태소: I, want, to, go, home.\n",
        "\n",
        "> \"집\"\n",
        "> + 집이, 집에, 집을, 집은, .... -> \"집\"이라는 공통된 명사를 분석하지 못함.\n",
        "> + \"집이\": \"집\" + \"이\" -> 형태소 분석.\n",
        "\n",
        "\n",
        "\n"
      ]
    },
    {
      "cell_type": "markdown",
      "metadata": {
        "id": "ed0GSOMx-HRZ"
      },
      "source": [
        "### 형태소 분석의 문제\n",
        "\n",
        "+ 단어는 띄어쓰기 단위로 분리가 가능했다.\n",
        "+ 형태소의 경우는 일괄적으로 분리할 수 없다.\n",
        "\n",
        "--> `konlpy`라는 모듈을 사용해서 형태소 분석을 처리할 수 있다."
      ]
    },
    {
      "cell_type": "markdown",
      "metadata": {
        "id": "BHYWB0ee-gY0"
      },
      "source": [
        "## `konlpy` 패키지"
      ]
    },
    {
      "cell_type": "markdown",
      "metadata": {
        "id": "AGwlDHU--vlc"
      },
      "source": [
        "### 설치하기\n",
        "\n",
        "설치 명령: `pip install -U <모듈 이름>`"
      ]
    },
    {
      "cell_type": "code",
      "execution_count": 1,
      "metadata": {
        "colab": {
          "background_save": true,
          "base_uri": "https://localhost:8080/"
        },
        "id": "pTP0-kyB7wQo",
        "outputId": "125bffb2-4c70-42ff-969b-16e7d64149ed"
      },
      "outputs": [
        {
          "name": "stdout",
          "output_type": "stream",
          "text": [
            "Collecting konlpy\n",
            "  Downloading konlpy-0.6.0-py2.py3-none-any.whl.metadata (1.9 kB)\n",
            "Collecting JPype1>=0.7.0 (from konlpy)\n",
            "  Downloading JPype1-1.5.0-cp312-cp312-manylinux_2_17_x86_64.manylinux2014_x86_64.whl.metadata (4.9 kB)\n",
            "Collecting lxml>=4.1.0 (from konlpy)\n",
            "  Downloading lxml-5.3.0-cp312-cp312-manylinux_2_28_x86_64.whl.metadata (3.8 kB)\n",
            "Requirement already satisfied: numpy>=1.6 in /usr/local/python/3.12.1/lib/python3.12/site-packages (from konlpy) (1.26.4)\n",
            "Requirement already satisfied: packaging in /home/codespace/.local/lib/python3.12/site-packages (from JPype1>=0.7.0->konlpy) (24.1)\n",
            "Downloading konlpy-0.6.0-py2.py3-none-any.whl (19.4 MB)\n",
            "\u001b[2K   \u001b[90m━━━━━━━━━━━━━━━━━━━━━━━━━━━━━━━━━━━━━━━━\u001b[0m \u001b[32m19.4/19.4 MB\u001b[0m \u001b[31m49.2 MB/s\u001b[0m eta \u001b[36m0:00:00\u001b[0m:00:01\u001b[0m\n",
            "\u001b[?25hDownloading JPype1-1.5.0-cp312-cp312-manylinux_2_17_x86_64.manylinux2014_x86_64.whl (488 kB)\n",
            "Downloading lxml-5.3.0-cp312-cp312-manylinux_2_28_x86_64.whl (4.9 MB)\n",
            "\u001b[2K   \u001b[90m━━━━━━━━━━━━━━━━━━━━━━━━━━━━━━━━━━━━━━━━\u001b[0m \u001b[32m4.9/4.9 MB\u001b[0m \u001b[31m48.9 MB/s\u001b[0m eta \u001b[36m0:00:00\u001b[0m\n",
            "\u001b[?25hInstalling collected packages: lxml, JPype1, konlpy\n",
            "Successfully installed JPype1-1.5.0 konlpy-0.6.0 lxml-5.3.0\n",
            "Note: you may need to restart the kernel to use updated packages.\n"
          ]
        }
      ],
      "source": [
        "%pip install -U konlpy"
      ]
    },
    {
      "cell_type": "markdown",
      "metadata": {
        "id": "G4bwEmBa_LxL"
      },
      "source": [
        "### 모듈 사용하기\n",
        "\n",
        "`konlpy`에서 사용 가능한 형태소 분석기의 종류\n",
        "\n",
        "+ Okt(Open Korean Twitter)\n",
        "+ Kkma(꼬꼬마)\n",
        "+ Komoran\n",
        "+ (Mecab)"
      ]
    },
    {
      "cell_type": "code",
      "execution_count": 2,
      "metadata": {
        "id": "HSqJqOt2_OEj"
      },
      "outputs": [],
      "source": [
        "from konlpy.tag import Okt, Kkma, Komoran"
      ]
    },
    {
      "cell_type": "markdown",
      "metadata": {
        "id": "r8PbCP1W_ru4"
      },
      "source": [
        "### 형태소 분석기의 특징"
      ]
    },
    {
      "cell_type": "code",
      "execution_count": 3,
      "metadata": {
        "id": "67xaCUjoAEvM"
      },
      "outputs": [],
      "source": [
        "sentence = '수업이 끝나도 집에 못 간다.'"
      ]
    },
    {
      "cell_type": "markdown",
      "metadata": {},
      "source": [
        "#### OKT"
      ]
    },
    {
      "cell_type": "code",
      "execution_count": 4,
      "metadata": {
        "id": "kpaUaE08_vBb"
      },
      "outputs": [],
      "source": [
        "okt = Okt() # 형태소 분석기 초기화"
      ]
    },
    {
      "cell_type": "code",
      "execution_count": 5,
      "metadata": {
        "id": "83jMFD_8_2ru"
      },
      "outputs": [
        {
          "name": "stdout",
          "output_type": "stream",
          "text": [
            "['__class__', '__delattr__', '__dict__', '__dir__', '__doc__', '__eq__', '__format__', '__ge__', '__getattribute__', '__getstate__', '__gt__', '__hash__', '__init__', '__init_subclass__', '__le__', '__lt__', '__module__', '__ne__', '__new__', '__reduce__', '__reduce_ex__', '__repr__', '__setattr__', '__sizeof__', '__str__', '__subclasshook__', '__weakref__', 'jki', 'morphs', 'normalize', 'nouns', 'phrases', 'pos', 'tagset']\n"
          ]
        }
      ],
      "source": [
        "print(dir(okt)) # 어떤 메소드가 있는지 알아보기"
      ]
    },
    {
      "cell_type": "code",
      "execution_count": 6,
      "metadata": {
        "colab": {
          "base_uri": "https://localhost:8080/"
        },
        "id": "Ru-WF8XaAJcR",
        "outputId": "5678e8e9-90b1-459e-a5aa-86cfe1635a47"
      },
      "outputs": [
        {
          "data": {
            "text/plain": [
              "['수업', '이', '끝나도', '집', '에', '못', '간다', '.']"
            ]
          },
          "execution_count": 6,
          "metadata": {},
          "output_type": "execute_result"
        }
      ],
      "source": [
        "okt.morphs(sentence) # Okt의 특징: 명사구 위주로 처리 / 빠름"
      ]
    },
    {
      "cell_type": "markdown",
      "metadata": {},
      "source": [
        "#### 꼬꼬마"
      ]
    },
    {
      "cell_type": "code",
      "execution_count": 7,
      "metadata": {
        "id": "jSk30KrxAYgj"
      },
      "outputs": [],
      "source": [
        "kkma = Kkma()"
      ]
    },
    {
      "cell_type": "code",
      "execution_count": 8,
      "metadata": {
        "colab": {
          "base_uri": "https://localhost:8080/"
        },
        "id": "iteEnUXnAdiY",
        "outputId": "5281e764-5adc-4afe-f698-1b7a85044046"
      },
      "outputs": [
        {
          "data": {
            "text/plain": [
              "['수업', '이', '끝', '나도', '집', '에', '못', '갈', 'ㄴ다', '.']"
            ]
          },
          "execution_count": 8,
          "metadata": {},
          "output_type": "execute_result"
        }
      ],
      "source": [
        "kkma.morphs(sentence) # Kkma의 특징: 동사구도 분리 가능 / 매우 느림"
      ]
    },
    {
      "cell_type": "markdown",
      "metadata": {},
      "source": [
        "#### Komoran"
      ]
    },
    {
      "cell_type": "code",
      "execution_count": 9,
      "metadata": {},
      "outputs": [],
      "source": [
        "komoran = Komoran()"
      ]
    },
    {
      "cell_type": "code",
      "execution_count": 10,
      "metadata": {
        "colab": {
          "base_uri": "https://localhost:8080/"
        },
        "id": "aXQGQD_ZBE89",
        "outputId": "2e97f629-5e77-4a2a-c069-21d1a4076291"
      },
      "outputs": [
        {
          "data": {
            "text/plain": [
              "['수업', '이', '끝나', '아도', '집', '에', '못', '가', 'ㄴ다', '.']"
            ]
          },
          "execution_count": 10,
          "metadata": {},
          "output_type": "execute_result"
        }
      ],
      "source": [
        "komoran.morphs(sentence)"
      ]
    },
    {
      "cell_type": "markdown",
      "metadata": {
        "id": "cAXZwiYXBIaC"
      },
      "source": [
        "### 명사만 추출하기"
      ]
    },
    {
      "cell_type": "code",
      "execution_count": 11,
      "metadata": {},
      "outputs": [
        {
          "data": {
            "text/plain": [
              "['수업', '집']"
            ]
          },
          "execution_count": 11,
          "metadata": {},
          "output_type": "execute_result"
        }
      ],
      "source": [
        "komoran.nouns(sentence)"
      ]
    },
    {
      "cell_type": "markdown",
      "metadata": {
        "id": "ppnZjAKwBZP9"
      },
      "source": [
        "### 모든 형태소를 품사태그(POS-tag)와 함께 추출하기\n",
        "\n",
        "+ 품사: 동사, 명사, 형용사, ...."
      ]
    },
    {
      "cell_type": "code",
      "execution_count": 12,
      "metadata": {
        "colab": {
          "base_uri": "https://localhost:8080/"
        },
        "id": "EIMDCrPEBhjp",
        "outputId": "b608d5fa-c05d-4613-8943-d2a67715d199"
      },
      "outputs": [
        {
          "data": {
            "text/plain": [
              "[('수업', 'Noun'),\n",
              " ('이', 'Josa'),\n",
              " ('끝나도', 'Verb'),\n",
              " ('집', 'Noun'),\n",
              " ('에', 'Josa'),\n",
              " ('못', 'Noun'),\n",
              " ('간다', 'Noun'),\n",
              " ('.', 'Punctuation')]"
            ]
          },
          "execution_count": 12,
          "metadata": {},
          "output_type": "execute_result"
        }
      ],
      "source": [
        "okt.pos(sentence)"
      ]
    },
    {
      "cell_type": "code",
      "execution_count": 13,
      "metadata": {
        "colab": {
          "base_uri": "https://localhost:8080/"
        },
        "id": "-ZPaunC5Bphf",
        "outputId": "6a2f9cea-e95f-40c2-c378-f5b3c7f44991"
      },
      "outputs": [
        {
          "data": {
            "text/plain": [
              "[('수업', 'NNG'),\n",
              " ('이', 'JKS'),\n",
              " ('끝', 'NNG'),\n",
              " ('나도', 'NNG'),\n",
              " ('집', 'NNG'),\n",
              " ('에', 'JKM'),\n",
              " ('못', 'MAG'),\n",
              " ('갈', 'VV'),\n",
              " ('ㄴ다', 'EFN'),\n",
              " ('.', 'SF')]"
            ]
          },
          "execution_count": 13,
          "metadata": {},
          "output_type": "execute_result"
        }
      ],
      "source": [
        "kkma.pos(sentence) # NNG: 일반명사, JKS: 주격 조사, VV: 일반동사 어간, ..."
      ]
    },
    {
      "cell_type": "code",
      "execution_count": 14,
      "metadata": {},
      "outputs": [
        {
          "data": {
            "text/plain": [
              "[('수업', 'NNG'),\n",
              " ('이', 'JKS'),\n",
              " ('끝나', 'VV'),\n",
              " ('아도', 'EC'),\n",
              " ('집', 'NNG'),\n",
              " ('에', 'JKB'),\n",
              " ('못', 'MAG'),\n",
              " ('가', 'VV'),\n",
              " ('ㄴ다', 'EF'),\n",
              " ('.', 'SF')]"
            ]
          },
          "execution_count": 14,
          "metadata": {},
          "output_type": "execute_result"
        }
      ],
      "source": [
        "komoran.pos(sentence) # NNG: 일반명사, JKS: 주격 조사, VV: 일반동사 어간, ..."
      ]
    },
    {
      "cell_type": "code",
      "execution_count": 15,
      "metadata": {
        "colab": {
          "base_uri": "https://localhost:8080/"
        },
        "id": "k3BdubSACAf9",
        "outputId": "d7c235a4-fa0f-435f-9a40-bf4c70fc795a"
      },
      "outputs": [
        {
          "data": {
            "text/plain": [
              "['수업/Noun',\n",
              " '이/Josa',\n",
              " '끝나도/Verb',\n",
              " '집/Noun',\n",
              " '에/Josa',\n",
              " '못/Noun',\n",
              " '간다/Noun',\n",
              " './Punctuation']"
            ]
          },
          "execution_count": 15,
          "metadata": {},
          "output_type": "execute_result"
        }
      ],
      "source": [
        "okt.pos(sentence, join=True)"
      ]
    }
  ],
  "metadata": {
    "colab": {
      "provenance": []
    },
    "kernelspec": {
      "display_name": "Python 3",
      "name": "python3"
    },
    "language_info": {
      "codemirror_mode": {
        "name": "ipython",
        "version": 3
      },
      "file_extension": ".py",
      "mimetype": "text/x-python",
      "name": "python",
      "nbconvert_exporter": "python",
      "pygments_lexer": "ipython3",
      "version": "3.12.1"
    }
  },
  "nbformat": 4,
  "nbformat_minor": 0
}
